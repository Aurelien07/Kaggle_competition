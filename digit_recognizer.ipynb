{
  "nbformat": 4,
  "nbformat_minor": 0,
  "metadata": {
    "colab": {
      "provenance": [],
      "toc_visible": true,
      "authorship_tag": "ABX9TyPJrFb8ls+nBpT+N6BgdIuQ",
      "include_colab_link": true
    },
    "kernelspec": {
      "name": "python3",
      "display_name": "Python 3"
    },
    "language_info": {
      "name": "python"
    }
  },
  "cells": [
    {
      "cell_type": "markdown",
      "metadata": {
        "id": "view-in-github",
        "colab_type": "text"
      },
      "source": [
        "<a href=\"https://colab.research.google.com/github/Aurelien07/Kaggle_competition/blob/main/digit_recognizer.ipynb\" target=\"_parent\"><img src=\"https://colab.research.google.com/assets/colab-badge.svg\" alt=\"Open In Colab\"/></a>"
      ]
    },
    {
      "cell_type": "markdown",
      "source": [
        "# Digit  Recognizer project :"
      ],
      "metadata": {
        "id": "G6ftekpKAnxY"
      }
    },
    {
      "cell_type": "markdown",
      "source": [
        "Dans ce projet notre sommaire sera quelque chose similaire à ça : \n",
        "\n",
        "- Visualisation des données \n",
        "- Pré-traitement des données\n",
        "- Choix d'un modéle (from scratch)\n",
        "  - Entrainement du modéle \n",
        "  - Evaluation du modéle\n",
        "  - Prédictions sur les données de test\n",
        "- Choix du modéle (Transfert Learning)\n",
        "  - Entrainement du modéle\n",
        "  - Evaluation du modéle\n",
        "  - Prédictions sur les données de test\n",
        "- Comparatif entre from Scratch et Transfert Learning\n",
        "- Optimisation du modéle avec GridsearchCV\n",
        "- Script de détection\n",
        "- Conclusion\n"
      ],
      "metadata": {
        "id": "Cgcj27FCAqTo"
      }
    },
    {
      "cell_type": "markdown",
      "source": [
        "## Visualisation des données :"
      ],
      "metadata": {
        "id": "pKydfiGY7CVF"
      }
    },
    {
      "cell_type": "code",
      "source": [
        "def visu(data):\n",
        "    \"\"\"\n",
        "    Permet d'afficher une visualisation personnalisée des informations d'un DataFrame.\n",
        "\n",
        "    Parameters:\n",
        "    ----------\n",
        "    data : pd.DataFrame\n",
        "        DataFrame contenant les données à visualiser.\n",
        "    \"\"\"\n",
        "\n",
        "    print('-'*100)\n",
        "    print(\" \" * 45 + '\\033[1m' + \"Shape :\" + '\\033[0m')\n",
        "    print('-'*100)\n",
        "    print(f\"Le nombre de lignes et de colonnes dans le DataFrame est de : {data.shape}\\n\")\n",
        "    print('-'*100)\n",
        "    print(\" \" * 45 + '\\033[1m' + \"Head :\" + '\\033[0m')\n",
        "    print('-'*100)\n",
        "    \n",
        "    while True:\n",
        "        try:\n",
        "            num_rows = int(input(\"Entrez le nombre de lignes à afficher : \"))\n",
        "            if num_rows > 0:\n",
        "                break\n",
        "            else:\n",
        "                print(\"Le nombre de lignes doit être un Integer.\")\n",
        "        except ValueError:\n",
        "            print(\"Veuillez entrer un Integer.\")\n",
        "    \n",
        "    display(data.head(num_rows))\n",
        "    \n",
        "    print('-'*100)\n",
        "    print(\" \" * 45 + '\\033[1m' + \"Describe :\" + '\\033[0m')\n",
        "    print('-'*100)\n",
        "    \n",
        "    while True:\n",
        "        columns = input(\"Entrez les noms des colonnes à inclure (séparés par des virgules) : \")\n",
        "        if columns:\n",
        "            columns = [col.strip() for col in columns.split(',')]\n",
        "            if all(col in data.columns for col in columns):\n",
        "                break\n",
        "            else:\n",
        "                print(\"Certains noms de colonnes ne sont pas valides. Veuillez réessayer.\")\n",
        "        else:\n",
        "            break\n",
        "    \n",
        "    if columns:\n",
        "        display(data[columns].describe().T)\n",
        "    else:\n",
        "        display(data.describe().T)\n",
        "    \n",
        "    print('-'*100)\n",
        "    print(\" \" * 41 + '\\033[1m' + \"Types de données :\" + '\\033[0m')\n",
        "    print('-'*100)\n",
        "    display(data.dtypes)\n"
      ],
      "metadata": {
        "id": "3HGjzirQLEke"
      },
      "execution_count": null,
      "outputs": []
    },
    {
      "cell_type": "markdown",
      "source": [
        "### Exploration des données :"
      ],
      "metadata": {
        "id": "mePLV3IkBsAj"
      }
    },
    {
      "cell_type": "markdown",
      "source": [],
      "metadata": {
        "id": "DCwTThYFGujU"
      }
    },
    {
      "cell_type": "code",
      "execution_count": null,
      "metadata": {
        "id": "WgPxi7xJEgBv"
      },
      "outputs": [],
      "source": [
        "import pandas as pd\n",
        "import matplotlib.pyplot as plt\n",
        "import seaborn as sns"
      ]
    },
    {
      "cell_type": "code",
      "source": [
        "from google.colab import drive\n",
        "drive.mount('/content/drive')"
      ],
      "metadata": {
        "colab": {
          "base_uri": "https://localhost:8080/"
        },
        "id": "PLr8SU6KEzoO",
        "outputId": "9980555f-b1d6-4fdb-d4ab-02d9daf59075"
      },
      "execution_count": null,
      "outputs": [
        {
          "output_type": "stream",
          "name": "stdout",
          "text": [
            "Mounted at /content/drive\n"
          ]
        }
      ]
    },
    {
      "cell_type": "code",
      "source": [
        "import os\n",
        "for dirname, _, filenames in os.walk('/content/drive/My Drive/Colab Notebooks/digit-recognizer'):\n",
        "    for filename in filenames:\n",
        "        print(os.path.join(dirname, filename))"
      ],
      "metadata": {
        "colab": {
          "base_uri": "https://localhost:8080/"
        },
        "id": "NBLpSRw1E5GW",
        "outputId": "fb5e0565-76b1-42e9-c943-f534508b8094"
      },
      "execution_count": null,
      "outputs": [
        {
          "output_type": "stream",
          "name": "stdout",
          "text": [
            "/content/drive/My Drive/Colab Notebooks/digit-recognizer/digit_recognizer.ipynb\n",
            "/content/drive/My Drive/Colab Notebooks/digit-recognizer/test.csv\n",
            "/content/drive/My Drive/Colab Notebooks/digit-recognizer/sample_submission.csv\n",
            "/content/drive/My Drive/Colab Notebooks/digit-recognizer/train.csv\n"
          ]
        }
      ]
    },
    {
      "cell_type": "code",
      "source": [
        "test_ds = pd.read_csv('/content/drive/My Drive/Colab Notebooks/digit-recognizer/test.csv')\n",
        "train_ds = pd.read_csv('/content/drive/My Drive/Colab Notebooks/digit-recognizer/train.csv')"
      ],
      "metadata": {
        "id": "hQ-NTBspFEwL"
      },
      "execution_count": null,
      "outputs": []
    },
    {
      "cell_type": "markdown",
      "source": [
        "let's vizualise the dataset first :"
      ],
      "metadata": {
        "id": "rkXkKxoUFzBB"
      }
    },
    {
      "cell_type": "code",
      "source": [
        "visu(train_ds)"
      ],
      "metadata": {
        "colab": {
          "base_uri": "https://localhost:8080/",
          "height": 870
        },
        "id": "bK4QOLyHLNYM",
        "outputId": "d814fb1f-61f5-41c2-9deb-b8bff4eef4a8"
      },
      "execution_count": null,
      "outputs": [
        {
          "name": "stdout",
          "output_type": "stream",
          "text": [
            "----------------------------------------------------------------------------------------------------\n",
            "                                             \u001b[1mShape :\u001b[0m\n",
            "----------------------------------------------------------------------------------------------------\n",
            "Le nombre de lignes et de colonnes dans le DataFrame est de : (42000, 785)\n",
            "\n",
            "----------------------------------------------------------------------------------------------------\n",
            "                                             \u001b[1mHead :\u001b[0m\n",
            "----------------------------------------------------------------------------------------------------\n",
            "Entrez le nombre de lignes à afficher : 5\n"
          ]
        },
        {
          "output_type": "display_data",
          "data": {
            "text/plain": [
              "   label  pixel0  pixel1  pixel2  pixel3  pixel4  pixel5  pixel6  pixel7  \\\n",
              "0      1       0       0       0       0       0       0       0       0   \n",
              "1      0       0       0       0       0       0       0       0       0   \n",
              "2      1       0       0       0       0       0       0       0       0   \n",
              "3      4       0       0       0       0       0       0       0       0   \n",
              "4      0       0       0       0       0       0       0       0       0   \n",
              "\n",
              "   pixel8  ...  pixel774  pixel775  pixel776  pixel777  pixel778  pixel779  \\\n",
              "0       0  ...         0         0         0         0         0         0   \n",
              "1       0  ...         0         0         0         0         0         0   \n",
              "2       0  ...         0         0         0         0         0         0   \n",
              "3       0  ...         0         0         0         0         0         0   \n",
              "4       0  ...         0         0         0         0         0         0   \n",
              "\n",
              "   pixel780  pixel781  pixel782  pixel783  \n",
              "0         0         0         0         0  \n",
              "1         0         0         0         0  \n",
              "2         0         0         0         0  \n",
              "3         0         0         0         0  \n",
              "4         0         0         0         0  \n",
              "\n",
              "[5 rows x 785 columns]"
            ],
            "text/html": [
              "\n",
              "  <div id=\"df-c0c64d68-031d-4ff5-baf7-f5bd473f8796\">\n",
              "    <div class=\"colab-df-container\">\n",
              "      <div>\n",
              "<style scoped>\n",
              "    .dataframe tbody tr th:only-of-type {\n",
              "        vertical-align: middle;\n",
              "    }\n",
              "\n",
              "    .dataframe tbody tr th {\n",
              "        vertical-align: top;\n",
              "    }\n",
              "\n",
              "    .dataframe thead th {\n",
              "        text-align: right;\n",
              "    }\n",
              "</style>\n",
              "<table border=\"1\" class=\"dataframe\">\n",
              "  <thead>\n",
              "    <tr style=\"text-align: right;\">\n",
              "      <th></th>\n",
              "      <th>label</th>\n",
              "      <th>pixel0</th>\n",
              "      <th>pixel1</th>\n",
              "      <th>pixel2</th>\n",
              "      <th>pixel3</th>\n",
              "      <th>pixel4</th>\n",
              "      <th>pixel5</th>\n",
              "      <th>pixel6</th>\n",
              "      <th>pixel7</th>\n",
              "      <th>pixel8</th>\n",
              "      <th>...</th>\n",
              "      <th>pixel774</th>\n",
              "      <th>pixel775</th>\n",
              "      <th>pixel776</th>\n",
              "      <th>pixel777</th>\n",
              "      <th>pixel778</th>\n",
              "      <th>pixel779</th>\n",
              "      <th>pixel780</th>\n",
              "      <th>pixel781</th>\n",
              "      <th>pixel782</th>\n",
              "      <th>pixel783</th>\n",
              "    </tr>\n",
              "  </thead>\n",
              "  <tbody>\n",
              "    <tr>\n",
              "      <th>0</th>\n",
              "      <td>1</td>\n",
              "      <td>0</td>\n",
              "      <td>0</td>\n",
              "      <td>0</td>\n",
              "      <td>0</td>\n",
              "      <td>0</td>\n",
              "      <td>0</td>\n",
              "      <td>0</td>\n",
              "      <td>0</td>\n",
              "      <td>0</td>\n",
              "      <td>...</td>\n",
              "      <td>0</td>\n",
              "      <td>0</td>\n",
              "      <td>0</td>\n",
              "      <td>0</td>\n",
              "      <td>0</td>\n",
              "      <td>0</td>\n",
              "      <td>0</td>\n",
              "      <td>0</td>\n",
              "      <td>0</td>\n",
              "      <td>0</td>\n",
              "    </tr>\n",
              "    <tr>\n",
              "      <th>1</th>\n",
              "      <td>0</td>\n",
              "      <td>0</td>\n",
              "      <td>0</td>\n",
              "      <td>0</td>\n",
              "      <td>0</td>\n",
              "      <td>0</td>\n",
              "      <td>0</td>\n",
              "      <td>0</td>\n",
              "      <td>0</td>\n",
              "      <td>0</td>\n",
              "      <td>...</td>\n",
              "      <td>0</td>\n",
              "      <td>0</td>\n",
              "      <td>0</td>\n",
              "      <td>0</td>\n",
              "      <td>0</td>\n",
              "      <td>0</td>\n",
              "      <td>0</td>\n",
              "      <td>0</td>\n",
              "      <td>0</td>\n",
              "      <td>0</td>\n",
              "    </tr>\n",
              "    <tr>\n",
              "      <th>2</th>\n",
              "      <td>1</td>\n",
              "      <td>0</td>\n",
              "      <td>0</td>\n",
              "      <td>0</td>\n",
              "      <td>0</td>\n",
              "      <td>0</td>\n",
              "      <td>0</td>\n",
              "      <td>0</td>\n",
              "      <td>0</td>\n",
              "      <td>0</td>\n",
              "      <td>...</td>\n",
              "      <td>0</td>\n",
              "      <td>0</td>\n",
              "      <td>0</td>\n",
              "      <td>0</td>\n",
              "      <td>0</td>\n",
              "      <td>0</td>\n",
              "      <td>0</td>\n",
              "      <td>0</td>\n",
              "      <td>0</td>\n",
              "      <td>0</td>\n",
              "    </tr>\n",
              "    <tr>\n",
              "      <th>3</th>\n",
              "      <td>4</td>\n",
              "      <td>0</td>\n",
              "      <td>0</td>\n",
              "      <td>0</td>\n",
              "      <td>0</td>\n",
              "      <td>0</td>\n",
              "      <td>0</td>\n",
              "      <td>0</td>\n",
              "      <td>0</td>\n",
              "      <td>0</td>\n",
              "      <td>...</td>\n",
              "      <td>0</td>\n",
              "      <td>0</td>\n",
              "      <td>0</td>\n",
              "      <td>0</td>\n",
              "      <td>0</td>\n",
              "      <td>0</td>\n",
              "      <td>0</td>\n",
              "      <td>0</td>\n",
              "      <td>0</td>\n",
              "      <td>0</td>\n",
              "    </tr>\n",
              "    <tr>\n",
              "      <th>4</th>\n",
              "      <td>0</td>\n",
              "      <td>0</td>\n",
              "      <td>0</td>\n",
              "      <td>0</td>\n",
              "      <td>0</td>\n",
              "      <td>0</td>\n",
              "      <td>0</td>\n",
              "      <td>0</td>\n",
              "      <td>0</td>\n",
              "      <td>0</td>\n",
              "      <td>...</td>\n",
              "      <td>0</td>\n",
              "      <td>0</td>\n",
              "      <td>0</td>\n",
              "      <td>0</td>\n",
              "      <td>0</td>\n",
              "      <td>0</td>\n",
              "      <td>0</td>\n",
              "      <td>0</td>\n",
              "      <td>0</td>\n",
              "      <td>0</td>\n",
              "    </tr>\n",
              "  </tbody>\n",
              "</table>\n",
              "<p>5 rows × 785 columns</p>\n",
              "</div>\n",
              "      <button class=\"colab-df-convert\" onclick=\"convertToInteractive('df-c0c64d68-031d-4ff5-baf7-f5bd473f8796')\"\n",
              "              title=\"Convert this dataframe to an interactive table.\"\n",
              "              style=\"display:none;\">\n",
              "        \n",
              "  <svg xmlns=\"http://www.w3.org/2000/svg\" height=\"24px\"viewBox=\"0 0 24 24\"\n",
              "       width=\"24px\">\n",
              "    <path d=\"M0 0h24v24H0V0z\" fill=\"none\"/>\n",
              "    <path d=\"M18.56 5.44l.94 2.06.94-2.06 2.06-.94-2.06-.94-.94-2.06-.94 2.06-2.06.94zm-11 1L8.5 8.5l.94-2.06 2.06-.94-2.06-.94L8.5 2.5l-.94 2.06-2.06.94zm10 10l.94 2.06.94-2.06 2.06-.94-2.06-.94-.94-2.06-.94 2.06-2.06.94z\"/><path d=\"M17.41 7.96l-1.37-1.37c-.4-.4-.92-.59-1.43-.59-.52 0-1.04.2-1.43.59L10.3 9.45l-7.72 7.72c-.78.78-.78 2.05 0 2.83L4 21.41c.39.39.9.59 1.41.59.51 0 1.02-.2 1.41-.59l7.78-7.78 2.81-2.81c.8-.78.8-2.07 0-2.86zM5.41 20L4 18.59l7.72-7.72 1.47 1.35L5.41 20z\"/>\n",
              "  </svg>\n",
              "      </button>\n",
              "      \n",
              "  <style>\n",
              "    .colab-df-container {\n",
              "      display:flex;\n",
              "      flex-wrap:wrap;\n",
              "      gap: 12px;\n",
              "    }\n",
              "\n",
              "    .colab-df-convert {\n",
              "      background-color: #E8F0FE;\n",
              "      border: none;\n",
              "      border-radius: 50%;\n",
              "      cursor: pointer;\n",
              "      display: none;\n",
              "      fill: #1967D2;\n",
              "      height: 32px;\n",
              "      padding: 0 0 0 0;\n",
              "      width: 32px;\n",
              "    }\n",
              "\n",
              "    .colab-df-convert:hover {\n",
              "      background-color: #E2EBFA;\n",
              "      box-shadow: 0px 1px 2px rgba(60, 64, 67, 0.3), 0px 1px 3px 1px rgba(60, 64, 67, 0.15);\n",
              "      fill: #174EA6;\n",
              "    }\n",
              "\n",
              "    [theme=dark] .colab-df-convert {\n",
              "      background-color: #3B4455;\n",
              "      fill: #D2E3FC;\n",
              "    }\n",
              "\n",
              "    [theme=dark] .colab-df-convert:hover {\n",
              "      background-color: #434B5C;\n",
              "      box-shadow: 0px 1px 3px 1px rgba(0, 0, 0, 0.15);\n",
              "      filter: drop-shadow(0px 1px 2px rgba(0, 0, 0, 0.3));\n",
              "      fill: #FFFFFF;\n",
              "    }\n",
              "  </style>\n",
              "\n",
              "      <script>\n",
              "        const buttonEl =\n",
              "          document.querySelector('#df-c0c64d68-031d-4ff5-baf7-f5bd473f8796 button.colab-df-convert');\n",
              "        buttonEl.style.display =\n",
              "          google.colab.kernel.accessAllowed ? 'block' : 'none';\n",
              "\n",
              "        async function convertToInteractive(key) {\n",
              "          const element = document.querySelector('#df-c0c64d68-031d-4ff5-baf7-f5bd473f8796');\n",
              "          const dataTable =\n",
              "            await google.colab.kernel.invokeFunction('convertToInteractive',\n",
              "                                                     [key], {});\n",
              "          if (!dataTable) return;\n",
              "\n",
              "          const docLinkHtml = 'Like what you see? Visit the ' +\n",
              "            '<a target=\"_blank\" href=https://colab.research.google.com/notebooks/data_table.ipynb>data table notebook</a>'\n",
              "            + ' to learn more about interactive tables.';\n",
              "          element.innerHTML = '';\n",
              "          dataTable['output_type'] = 'display_data';\n",
              "          await google.colab.output.renderOutput(dataTable, element);\n",
              "          const docLink = document.createElement('div');\n",
              "          docLink.innerHTML = docLinkHtml;\n",
              "          element.appendChild(docLink);\n",
              "        }\n",
              "      </script>\n",
              "    </div>\n",
              "  </div>\n",
              "  "
            ]
          },
          "metadata": {}
        },
        {
          "name": "stdout",
          "output_type": "stream",
          "text": [
            "----------------------------------------------------------------------------------------------------\n",
            "                                             \u001b[1mDescribe :\u001b[0m\n",
            "----------------------------------------------------------------------------------------------------\n",
            "Entrez les noms des colonnes à inclure (séparés par des virgules) : labels\n",
            "Certains noms de colonnes ne sont pas valides. Veuillez réessayer.\n",
            "Entrez les noms des colonnes à inclure (séparés par des virgules) : label\n"
          ]
        },
        {
          "output_type": "display_data",
          "data": {
            "text/plain": [
              "         count      mean      std  min  25%  50%  75%  max\n",
              "label  42000.0  4.456643  2.88773  0.0  2.0  4.0  7.0  9.0"
            ],
            "text/html": [
              "\n",
              "  <div id=\"df-4963458e-289b-42ba-b6ff-6ca75f8065fb\">\n",
              "    <div class=\"colab-df-container\">\n",
              "      <div>\n",
              "<style scoped>\n",
              "    .dataframe tbody tr th:only-of-type {\n",
              "        vertical-align: middle;\n",
              "    }\n",
              "\n",
              "    .dataframe tbody tr th {\n",
              "        vertical-align: top;\n",
              "    }\n",
              "\n",
              "    .dataframe thead th {\n",
              "        text-align: right;\n",
              "    }\n",
              "</style>\n",
              "<table border=\"1\" class=\"dataframe\">\n",
              "  <thead>\n",
              "    <tr style=\"text-align: right;\">\n",
              "      <th></th>\n",
              "      <th>count</th>\n",
              "      <th>mean</th>\n",
              "      <th>std</th>\n",
              "      <th>min</th>\n",
              "      <th>25%</th>\n",
              "      <th>50%</th>\n",
              "      <th>75%</th>\n",
              "      <th>max</th>\n",
              "    </tr>\n",
              "  </thead>\n",
              "  <tbody>\n",
              "    <tr>\n",
              "      <th>label</th>\n",
              "      <td>42000.0</td>\n",
              "      <td>4.456643</td>\n",
              "      <td>2.88773</td>\n",
              "      <td>0.0</td>\n",
              "      <td>2.0</td>\n",
              "      <td>4.0</td>\n",
              "      <td>7.0</td>\n",
              "      <td>9.0</td>\n",
              "    </tr>\n",
              "  </tbody>\n",
              "</table>\n",
              "</div>\n",
              "      <button class=\"colab-df-convert\" onclick=\"convertToInteractive('df-4963458e-289b-42ba-b6ff-6ca75f8065fb')\"\n",
              "              title=\"Convert this dataframe to an interactive table.\"\n",
              "              style=\"display:none;\">\n",
              "        \n",
              "  <svg xmlns=\"http://www.w3.org/2000/svg\" height=\"24px\"viewBox=\"0 0 24 24\"\n",
              "       width=\"24px\">\n",
              "    <path d=\"M0 0h24v24H0V0z\" fill=\"none\"/>\n",
              "    <path d=\"M18.56 5.44l.94 2.06.94-2.06 2.06-.94-2.06-.94-.94-2.06-.94 2.06-2.06.94zm-11 1L8.5 8.5l.94-2.06 2.06-.94-2.06-.94L8.5 2.5l-.94 2.06-2.06.94zm10 10l.94 2.06.94-2.06 2.06-.94-2.06-.94-.94-2.06-.94 2.06-2.06.94z\"/><path d=\"M17.41 7.96l-1.37-1.37c-.4-.4-.92-.59-1.43-.59-.52 0-1.04.2-1.43.59L10.3 9.45l-7.72 7.72c-.78.78-.78 2.05 0 2.83L4 21.41c.39.39.9.59 1.41.59.51 0 1.02-.2 1.41-.59l7.78-7.78 2.81-2.81c.8-.78.8-2.07 0-2.86zM5.41 20L4 18.59l7.72-7.72 1.47 1.35L5.41 20z\"/>\n",
              "  </svg>\n",
              "      </button>\n",
              "      \n",
              "  <style>\n",
              "    .colab-df-container {\n",
              "      display:flex;\n",
              "      flex-wrap:wrap;\n",
              "      gap: 12px;\n",
              "    }\n",
              "\n",
              "    .colab-df-convert {\n",
              "      background-color: #E8F0FE;\n",
              "      border: none;\n",
              "      border-radius: 50%;\n",
              "      cursor: pointer;\n",
              "      display: none;\n",
              "      fill: #1967D2;\n",
              "      height: 32px;\n",
              "      padding: 0 0 0 0;\n",
              "      width: 32px;\n",
              "    }\n",
              "\n",
              "    .colab-df-convert:hover {\n",
              "      background-color: #E2EBFA;\n",
              "      box-shadow: 0px 1px 2px rgba(60, 64, 67, 0.3), 0px 1px 3px 1px rgba(60, 64, 67, 0.15);\n",
              "      fill: #174EA6;\n",
              "    }\n",
              "\n",
              "    [theme=dark] .colab-df-convert {\n",
              "      background-color: #3B4455;\n",
              "      fill: #D2E3FC;\n",
              "    }\n",
              "\n",
              "    [theme=dark] .colab-df-convert:hover {\n",
              "      background-color: #434B5C;\n",
              "      box-shadow: 0px 1px 3px 1px rgba(0, 0, 0, 0.15);\n",
              "      filter: drop-shadow(0px 1px 2px rgba(0, 0, 0, 0.3));\n",
              "      fill: #FFFFFF;\n",
              "    }\n",
              "  </style>\n",
              "\n",
              "      <script>\n",
              "        const buttonEl =\n",
              "          document.querySelector('#df-4963458e-289b-42ba-b6ff-6ca75f8065fb button.colab-df-convert');\n",
              "        buttonEl.style.display =\n",
              "          google.colab.kernel.accessAllowed ? 'block' : 'none';\n",
              "\n",
              "        async function convertToInteractive(key) {\n",
              "          const element = document.querySelector('#df-4963458e-289b-42ba-b6ff-6ca75f8065fb');\n",
              "          const dataTable =\n",
              "            await google.colab.kernel.invokeFunction('convertToInteractive',\n",
              "                                                     [key], {});\n",
              "          if (!dataTable) return;\n",
              "\n",
              "          const docLinkHtml = 'Like what you see? Visit the ' +\n",
              "            '<a target=\"_blank\" href=https://colab.research.google.com/notebooks/data_table.ipynb>data table notebook</a>'\n",
              "            + ' to learn more about interactive tables.';\n",
              "          element.innerHTML = '';\n",
              "          dataTable['output_type'] = 'display_data';\n",
              "          await google.colab.output.renderOutput(dataTable, element);\n",
              "          const docLink = document.createElement('div');\n",
              "          docLink.innerHTML = docLinkHtml;\n",
              "          element.appendChild(docLink);\n",
              "        }\n",
              "      </script>\n",
              "    </div>\n",
              "  </div>\n",
              "  "
            ]
          },
          "metadata": {}
        },
        {
          "output_type": "stream",
          "name": "stdout",
          "text": [
            "----------------------------------------------------------------------------------------------------\n",
            "                                         \u001b[1mTypes de données :\u001b[0m\n",
            "----------------------------------------------------------------------------------------------------\n"
          ]
        },
        {
          "output_type": "display_data",
          "data": {
            "text/plain": [
              "label       int64\n",
              "pixel0      int64\n",
              "pixel1      int64\n",
              "pixel2      int64\n",
              "pixel3      int64\n",
              "            ...  \n",
              "pixel779    int64\n",
              "pixel780    int64\n",
              "pixel781    int64\n",
              "pixel782    int64\n",
              "pixel783    int64\n",
              "Length: 785, dtype: object"
            ]
          },
          "metadata": {}
        }
      ]
    },
    {
      "cell_type": "markdown",
      "source": [
        "Now let's start with our class number to know which number we will find."
      ],
      "metadata": {
        "id": "qnAIrZjrG9PJ"
      }
    },
    {
      "cell_type": "markdown",
      "source": [
        "### Analyse des données :"
      ],
      "metadata": {
        "id": "_MpjLeBfCWem"
      }
    },
    {
      "cell_type": "markdown",
      "source": [],
      "metadata": {
        "id": "iX7rFWlzGwGL"
      }
    },
    {
      "cell_type": "code",
      "source": [
        "num_classes = len(train_ds['label'].unique()) # Count the number of unique number normally we will have 10"
      ],
      "metadata": {
        "id": "RKAo9JFVHFlO"
      },
      "execution_count": null,
      "outputs": []
    },
    {
      "cell_type": "code",
      "source": [
        "num_classes # Confirm we have 10 classes "
      ],
      "metadata": {
        "colab": {
          "base_uri": "https://localhost:8080/"
        },
        "id": "_ptKdpc1HOd5",
        "outputId": "ac6acae0-2302-4f9a-8773-8134d89129a7"
      },
      "execution_count": null,
      "outputs": [
        {
          "output_type": "execute_result",
          "data": {
            "text/plain": [
              "10"
            ]
          },
          "metadata": {},
          "execution_count": 7
        }
      ]
    },
    {
      "cell_type": "code",
      "source": [],
      "metadata": {
        "id": "JMBRMIH4CWv6"
      },
      "execution_count": null,
      "outputs": []
    },
    {
      "cell_type": "markdown",
      "source": [
        "### Graphique de visualisation des données :"
      ],
      "metadata": {
        "id": "AFcUQA1M69XX"
      }
    },
    {
      "cell_type": "markdown",
      "source": [],
      "metadata": {
        "id": "8a1sDtE-GyCw"
      }
    },
    {
      "cell_type": "markdown",
      "source": [
        "Now we will have some random vizualisation of the score :"
      ],
      "metadata": {
        "id": "Swy-yWzqGRTh"
      }
    },
    {
      "cell_type": "code",
      "source": [
        "import matplotlib.pyplot as plt\n",
        "import numpy as np\n",
        "\n",
        "# Extraire les pixels et les labels des données d'entraînement\n",
        "pixels = train_ds.drop('label', axis=1).values\n",
        "labels = train_ds['label'].values\n",
        "\n",
        "# Affiche les 10 premières images avec leur titre :\n",
        "fig, axes = plt.subplots(3, 5, figsize=(10, 6)) # 2 lignes avec 5 colonnes\n",
        "axes = axes.flatten()\n",
        "\n",
        "\n",
        "for i in range(15):\n",
        "    img = pixels[i].reshape(28, 28)  # Remodeler les pixels en une image 28x28 (norme)\n",
        "    axes[i].imshow(img, cmap='magma') # magma because it's a personal choice i like it !\n",
        "    axes[i].set_title(f\"Label: {labels[i]}\")\n",
        "    axes[i].grid(True) # i don't know if the grid is good or not but i like it too so..\n",
        "  \n",
        "plt.tight_layout()\n",
        "plt.show()"
      ],
      "metadata": {
        "colab": {
          "base_uri": "https://localhost:8080/",
          "height": 609
        },
        "id": "BkXdvoO_6j6A",
        "outputId": "f1250370-1b7f-4fd9-903b-bd8948722678"
      },
      "execution_count": null,
      "outputs": [
        {
          "output_type": "display_data",
          "data": {
            "text/plain": [
              "<Figure size 1000x600 with 15 Axes>"
            ],
            "image/png": "[encoded data removed]"
          },
          "metadata": {}
        }
      ]
    },
    {
      "cell_type": "markdown",
      "source": [
        "## Pré-traitement des données :"
      ],
      "metadata": {
        "id": "btzLdOjd_L8-"
      }
    },
    {
      "cell_type": "markdown",
      "source": [],
      "metadata": {
        "id": "y0Hv4onSGzkp"
      }
    },
    {
      "cell_type": "markdown",
      "source": [
        "__Prétraitement des données :__\n",
        "\n",
        "- la normalisation des pixels (mettre les pixels à une échelle de 0 à 1)\n",
        "- le redimensionnement des images (si entrée modéle spécifique)\n",
        "- l'augmentation des données. (pour augmenter la taille du modéle et améliore la généralisation du modéle)\n",
        "\n",
        "\n"
      ],
      "metadata": {
        "id": "KZzwet-e_OGJ"
      }
    },
    {
      "cell_type": "code",
      "source": [
        "from sklearn.preprocessing import RobustScaler\n",
        "from skimage.transform import resize\n",
        "from tensorflow.keras.preprocessing.image import ImageDataGenerator"
      ],
      "metadata": {
        "id": "W11bpvfUDdlJ"
      },
      "execution_count": null,
      "outputs": []
    },
    {
      "cell_type": "markdown",
      "source": [
        "### Normalisation des données :"
      ],
      "metadata": {
        "id": "eJKqlTx1E0b5"
      }
    },
    {
      "cell_type": "markdown",
      "source": [],
      "metadata": {
        "id": "ghHOsCo5FpRH"
      }
    },
    {
      "cell_type": "code",
      "source": [
        "# Normalisation robuste des pixels\n",
        "scaler = RobustScaler()\n",
        "normalized_pixels = scaler.fit_transform(pixels)"
      ],
      "metadata": {
        "id": "0dd68v73E32F"
      },
      "execution_count": null,
      "outputs": []
    },
    {
      "cell_type": "markdown",
      "source": [
        "### Redimension des données : "
      ],
      "metadata": {
        "id": "FPyNFg2eE5ZX"
      }
    },
    {
      "cell_type": "markdown",
      "source": [],
      "metadata": {
        "id": "yVxn7TZIFqAu"
      }
    },
    {
      "cell_type": "code",
      "source": [
        "# Normalisation robuste des pixels\n",
        "scaler = RobustScaler()\n",
        "normalized_pixels = scaler.fit_transform(pixels)\n",
        "\n",
        "# Redimensionnement des images\n",
        "resized_images = np.array([resize(img.reshape(28, 28), (28, 28), anti_aliasing=True) for img in normalized_pixels])\n",
        "\n",
        "# Ajouter une dimension pour les canaux de couleur (niveaux de gris)\n",
        "resized_images = resized_images.reshape(resized_images.shape + (1,))"
      ],
      "metadata": {
        "id": "DL2EK6iNE7uP"
      },
      "execution_count": null,
      "outputs": []
    },
    {
      "cell_type": "markdown",
      "source": [
        "### Augmentation des données :"
      ],
      "metadata": {
        "id": "CBy7IjvGE_vj"
      }
    },
    {
      "cell_type": "markdown",
      "source": [],
      "metadata": {
        "id": "CLpXhcrdFquE"
      }
    },
    {
      "cell_type": "code",
      "source": [
        "# Augmentation des données\n",
        "datagen = ImageDataGenerator(rotation_range=10, width_shift_range=0.1, height_shift_range=0.1, zoom_range=0.1)\n",
        "datagen.fit(resized_images)  # Adapter le générateur aux données\n",
        "\n",
        "# Générer les images augmentées\n",
        "augmented_images = datagen.flow(resized_images, batch_size=1, shuffle=False)"
      ],
      "metadata": {
        "id": "r5mwP_dI6j7v"
      },
      "execution_count": null,
      "outputs": []
    },
    {
      "cell_type": "markdown",
      "source": [
        "### Visualisation du pré-traitement : "
      ],
      "metadata": {
        "id": "L8evVCxIFD0u"
      }
    },
    {
      "cell_type": "markdown",
      "source": [
        "L'augmentation des données permet de mettre de la variabilité dans les données en appliquant des transformations aléatoires aux images existantes. \n",
        "\n",
        "Ca améliore la capacité de généralisation du modèle en lui donnant plus de données pour l'apprentissage du modéle."
      ],
      "metadata": {
        "id": "LNsOCWp4Frvc"
      }
    },
    {
      "cell_type": "code",
      "source": [
        "print(\"Dimensions des données originales :\", resized_images.shape)\n",
        "print(\"Dimensions des données augmentées :\", augmented_images[0][0].shape)"
      ],
      "metadata": {
        "colab": {
          "base_uri": "https://localhost:8080/"
        },
        "id": "E6IsGl366j-M",
        "outputId": "182ab171-3f94-4192-f542-2e9f8df3f35c"
      },
      "execution_count": null,
      "outputs": [
        {
          "output_type": "stream",
          "name": "stdout",
          "text": [
            "Dimensions des données originales : (42000, 28, 28, 1)\n",
            "Dimensions des données augmentées : (28, 28, 1)\n"
          ]
        }
      ]
    },
    {
      "cell_type": "code",
      "source": [
        "# Génération des images augmentées :\n",
        "generated_images = datagen.flow(resized_images, batch_size=1, shuffle=False)\n",
        "\n",
        "# Affichage des images augmentées :\n",
        "fig, axes = plt.subplots(3, 5, figsize=(12, 8))\n",
        "axes = axes.flatten()\n",
        "\n",
        "for i in range(15):\n",
        "    img = generated_images[i][0].reshape(28, 28)  # Remodeler les pixels en une image 28x28 (norme)\n",
        "    axes[i].imshow(img, cmap='magma') # choix de la couleur d'affichage (cmap)\n",
        "    axes[i].axis('off')\n",
        "\n",
        "plt.tight_layout()\n",
        "plt.show()"
      ],
      "metadata": {
        "colab": {
          "base_uri": "https://localhost:8080/",
          "height": 788
        },
        "id": "zWhcB8JZFdEM",
        "outputId": "a6eecce9-db14-4f3b-d801-afe6392e372e"
      },
      "execution_count": 45,
      "outputs": [
        {
          "output_type": "display_data",
          "data": {
            "text/plain": [
              "<Figure size 1200x800 with 15 Axes>"
            ],
            "image/png": "[encoded data removed]"
          },
          "metadata": {}
        }
      ]
    },
    {
      "cell_type": "markdown",
      "source": [
        "### Split les données :"
      ],
      "metadata": {
        "id": "YlGzUmONS0Te"
      }
    },
    {
      "cell_type": "code",
      "source": [
        "from sklearn.model_selection import train_test_split"
      ],
      "metadata": {
        "id": "9z2smhdbS8kB"
      },
      "execution_count": 48,
      "outputs": []
    },
    {
      "cell_type": "code",
      "source": [
        "# Diviser les données en ensemble d'entraînement et ensemble de validation\n",
        "train_images, val_images, train_labels, val_labels = train_test_split(augmented_images, labels, test_size=0.2)"
      ],
      "metadata": {
        "id": "SgSulJCzS0w_"
      },
      "execution_count": 49,
      "outputs": []
    },
    {
      "cell_type": "markdown",
      "source": [
        "## Création du modéle from scratch :"
      ],
      "metadata": {
        "id": "OzyrC9P3FNY1"
      }
    },
    {
      "cell_type": "markdown",
      "source": [
        "Un modèle from scratch permet de concevoir un réseau de neurones avec nos caractéristiques définis. \n",
        "\n",
        "Grâce à ça, on a un contrôle total sur l'architecture de notre modèle, les hyperparamètres et les techniques d'optimisation que l'on pourra utiliser. \n",
        "\n",
        "Malgré tout les avantages, si on entraine un modèle from scratch , ça nécessitera plus de temps et de ressources de calcul, surtout si on posséde un grand nombre d'images et que le modèle est complexe, ce qui pourra amener à un crash de la mémoire ou à un temps de calcul bien trop important.."
      ],
      "metadata": {
        "id": "xzz0r4PyIfag"
      }
    },
    {
      "cell_type": "code",
      "source": [
        "from sklearn.preprocessing import RobustScaler\n",
        "from sklearn.model_selection import train_test_split\n",
        "\n",
        "from skimage.transform import resize\n",
        "\n",
        "from tensorflow.keras.preprocessing.image import ImageDataGenerator\n",
        "from tensorflow.keras.layers import Conv2D, MaxPooling2D, Flatten, Dense\n",
        "from tensorflow.keras.models import Sequential\n",
        "from tensorflow.keras.callbacks import EarlyStopping, ModelCheckpoint, CSVLogger"
      ],
      "metadata": {
        "id": "FmEjWa41Ig_2"
      },
      "execution_count": 54,
      "outputs": []
    },
    {
      "cell_type": "code",
      "source": [
        "model_path = \"/content/drive/My Drive/Colab Notebooks/digit-recognizer/model_scratch.h5\"\n",
        "\n",
        "if os.path.exists(model_path):\n",
        "\n",
        "    # Charger le modèle existant :\n",
        "\n",
        "    model = keras.models.load_model(model_path)\n",
        "    print(\"The Model has already been saved.\")\n",
        "\n",
        "else:\n",
        "\n",
        "    # Création du modèle :\n",
        "\n",
        "    model = Sequential()\n",
        "    model.add(Conv2D(32, (3, 3), activation='relu', input_shape=(28, 28, 1)))\n",
        "    model.add(MaxPooling2D((2, 2)))\n",
        "    model.add(Conv2D(64, (3, 3), activation='relu'))\n",
        "    model.add(MaxPooling2D((2, 2)))\n",
        "    model.add(Flatten())\n",
        "    model.add(Dense(64, activation='relu'))\n",
        "    model.add(Dense(10, activation='softmax'))\n",
        "\n",
        "    # Compilation du modèle :\n",
        "\n",
        "    model.compile(optimizer='adam', loss='sparse_categorical_crossentropy', metrics=['accuracy'])\n",
        "\n",
        "    # Utilisation de callbacks :\n",
        "\n",
        "    early_stopping = EarlyStopping(monitor='val_loss', patience=3, restore_best_weights=True)\n",
        "    checkpointer = ModelCheckpoint(model_path, monitor='val_accuracy', save_best_only=True)\n",
        "    csv_logger = CSVLogger('/content/drive/My Drive/Colab Notebooks/digit-recognizer/model_scratch.log')\n",
        "\n",
        "    # Entraînement du modèle :\n",
        "\n",
        "    history = model.fit(datagen.flow(train_images, train_labels, batch_size=32), \n",
        "                epochs=50, \n",
        "                validation_data=(val_images, val_labels),\n",
        "                callbacks=[early_stopping, checkpointer, csv_logger])"
      ],
      "metadata": {
        "colab": {
          "base_uri": "https://localhost:8080/"
        },
        "id": "8PjWAPPRQyIy",
        "outputId": "d50d4e33-c837-4ba4-9065-810548c6ccbc"
      },
      "execution_count": 59,
      "outputs": [
        {
          "output_type": "stream",
          "name": "stdout",
          "text": [
            "Epoch 1/50\n",
            "1050/1050 [==============================] - 50s 46ms/step - loss: 1.0125 - accuracy: 0.6764 - val_loss: 0.4031 - val_accuracy: 0.8708\n",
            "Epoch 2/50\n",
            "1050/1050 [==============================] - 48s 46ms/step - loss: 0.4306 - accuracy: 0.8596 - val_loss: 0.2487 - val_accuracy: 0.9165\n",
            "Epoch 3/50\n",
            "1050/1050 [==============================] - 49s 46ms/step - loss: 0.2850 - accuracy: 0.9096 - val_loss: 0.1832 - val_accuracy: 0.9392\n",
            "Epoch 4/50\n",
            "1050/1050 [==============================] - 48s 46ms/step - loss: 0.2068 - accuracy: 0.9334 - val_loss: 0.1588 - val_accuracy: 0.9492\n",
            "Epoch 5/50\n",
            "1050/1050 [==============================] - 51s 49ms/step - loss: 0.1742 - accuracy: 0.9435 - val_loss: 0.1188 - val_accuracy: 0.9623\n",
            "Epoch 6/50\n",
            "1050/1050 [==============================] - 51s 48ms/step - loss: 0.1552 - accuracy: 0.9502 - val_loss: 0.1019 - val_accuracy: 0.9679\n",
            "Epoch 7/50\n",
            "1050/1050 [==============================] - 48s 45ms/step - loss: 0.1359 - accuracy: 0.9571 - val_loss: 0.1132 - val_accuracy: 0.9654\n",
            "Epoch 8/50\n",
            "1050/1050 [==============================] - 49s 46ms/step - loss: 0.1245 - accuracy: 0.9597 - val_loss: 0.0983 - val_accuracy: 0.9690\n",
            "Epoch 9/50\n",
            "1050/1050 [==============================] - 48s 46ms/step - loss: 0.1219 - accuracy: 0.9611 - val_loss: 0.0966 - val_accuracy: 0.9700\n",
            "Epoch 10/50\n",
            "1050/1050 [==============================] - 48s 46ms/step - loss: 0.1064 - accuracy: 0.9658 - val_loss: 0.0783 - val_accuracy: 0.9749\n",
            "Epoch 11/50\n",
            "1050/1050 [==============================] - 47s 45ms/step - loss: 0.0970 - accuracy: 0.9693 - val_loss: 0.1143 - val_accuracy: 0.9665\n",
            "Epoch 12/50\n",
            "1050/1050 [==============================] - 54s 51ms/step - loss: 0.0909 - accuracy: 0.9709 - val_loss: 0.0869 - val_accuracy: 0.9731\n",
            "Epoch 13/50\n",
            "1050/1050 [==============================] - 50s 47ms/step - loss: 0.0894 - accuracy: 0.9721 - val_loss: 0.0874 - val_accuracy: 0.9729\n"
          ]
        }
      ]
    },
    {
      "cell_type": "markdown",
      "source": [],
      "metadata": {
        "id": "6QSF5vQ7hsiX"
      }
    },
    {
      "cell_type": "markdown",
      "source": [],
      "metadata": {
        "id": "52op8ABHhtIB"
      }
    },
    {
      "cell_type": "code",
      "source": [
        "accuracy_plot_path = \"/content/drive/My Drive/Colab Notebooks/digit-recognizer/scratch_1.png\"\n",
        "\n",
        "if not os.path.exists(accuracy_plot_path):\n",
        "    plt.figure(figsize=(12, 10))\n",
        "    plt.title('Model Accuracy')\n",
        "    plt.plot(history.history['accuracy'])\n",
        "    plt.plot(history.history['val_accuracy'])\n",
        "    plt.ylabel('Accuracy')\n",
        "    plt.xlabel('Epochs')\n",
        "    plt.legend(['Training Accuracy', 'Validation Accuracy'])\n",
        "    plt.savefig(accuracy_plot_path, transparent=False, bbox_inches='tight', dpi=900)\n",
        "    plt.grid(True)\n",
        "    plt.show()\n",
        "else:\n",
        "    plt.imshow(plt.imread(accuracy_plot_path))\n",
        "    plt.show()"
      ],
      "metadata": {
        "colab": {
          "base_uri": "https://localhost:8080/",
          "height": 435
        },
        "id": "e2bGUxtshsp2",
        "outputId": "8f9e2cfd-892f-4bab-915f-6fa2daaf00dd"
      },
      "execution_count": 61,
      "outputs": [
        {
          "output_type": "display_data",
          "data": {
            "text/plain": [
              "<Figure size 640x480 with 1 Axes>"
            ],
            "image/png": "[encoded data removed]"
          },
          "metadata": {}
        }
      ]
    },
    {
      "cell_type": "markdown",
      "source": [],
      "metadata": {
        "id": "HhsieRTtlfqu"
      }
    },
    {
      "cell_type": "code",
      "source": [
        "loss_plot_path = \"/content/drive/My Drive/Colab Notebooks/digit-recognizer/scratch_2.png\"\n",
        "\n",
        "\n",
        "if not os.path.exists(loss_plot_path):\n",
        "    plt.figure(figsize=(12, 10))\n",
        "    plt.title('Model Loss')\n",
        "    plt.plot(history.history['loss'])\n",
        "    plt.plot(history.history['val_loss'])\n",
        "    plt.ylabel('Loss')\n",
        "    plt.xlabel('Epochs')\n",
        "    plt.legend(['Training Loss', 'Validation Loss'])\n",
        "    plt.savefig(loss_plot_path, transparent=False, bbox_inches='tight', dpi=900)\n",
        "    plt.grid(True)\n",
        "    plt.show()\n",
        "else:\n",
        "    plt.imshow(plt.imread(loss_plot_path))"
      ],
      "metadata": {
        "colab": {
          "base_uri": "https://localhost:8080/",
          "height": 435
        },
        "id": "3npkHiKAlf9d",
        "outputId": "517a4c17-43c9-4da2-9cf1-8a725e0d3c7f"
      },
      "execution_count": 64,
      "outputs": [
        {
          "output_type": "display_data",
          "data": {
            "text/plain": [
              "<Figure size 640x480 with 1 Axes>"
            ],
            "image/png": "[encoded data removed]"
          },
          "metadata": {}
        }
      ]
    },
    {
      "cell_type": "markdown",
      "source": [],
      "metadata": {
        "id": "hquKz6SZlgK8"
      }
    }
  ]
}