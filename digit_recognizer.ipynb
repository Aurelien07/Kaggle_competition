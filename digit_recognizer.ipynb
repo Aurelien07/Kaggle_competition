{
  "nbformat": 4,
  "nbformat_minor": 0,
  "metadata": {
    "colab": {
      "provenance": [],
      "toc_visible": true,
      "authorship_tag": "ABX9TyPjcnVlTu1xiroE+7M5AULX",
      "include_colab_link": true
    },
    "kernelspec": {
      "name": "python3",
      "display_name": "Python 3"
    },
    "language_info": {
      "name": "python"
    }
  },
  "cells": [
    {
      "cell_type": "markdown",
      "metadata": {
        "id": "view-in-github",
        "colab_type": "text"
      },
      "source": [
        "<a href=\"https://colab.research.google.com/github/Aurelien07/Kaggle_competition/blob/main/digit_recognizer.ipynb\" target=\"_parent\"><img src=\"https://colab.research.google.com/assets/colab-badge.svg\" alt=\"Open In Colab\"/></a>"
      ]
    },
    {
      "cell_type": "markdown",
      "source": [
        "# Digit  Recognizer project :"
      ],
      "metadata": {
        "id": "G6ftekpKAnxY"
      }
    },
    {
      "cell_type": "markdown",
      "source": [
        "Dans ce projet notre sommaire sera quelque chose similaire à ça : \n",
        "\n",
        "- Visualisation des données \n",
        "- Pré-traitement des données\n",
        "- Choix d'un modéle (from scratch)\n",
        "  - Entrainement du modéle \n",
        "  - Evaluation du modéle\n",
        "  - Prédictions sur les données de test\n",
        "- Choix du modéle (Transfert Learning)\n",
        "  - Entrainement du modéle\n",
        "  - Evaluation du modéle\n",
        "  - Prédictions sur les données de test\n",
        "- Comparatif entre from Scratch et Transfert Learning\n",
        "- Optimisation du modéle avec GridsearchCV\n",
        "- Script de détection\n",
        "- Conclusion\n"
      ],
      "metadata": {
        "id": "Cgcj27FCAqTo"
      }
    },
    {
      "cell_type": "markdown",
      "source": [
        "## Visualisation des données :"
      ],
      "metadata": {
        "id": "pKydfiGY7CVF"
      }
    },
    {
      "cell_type": "markdown",
      "source": [],
      "metadata": {
        "id": "y2VQTqGiCkcm"
      }
    },
    {
      "cell_type": "markdown",
      "source": [
        "### Exploration des données :"
      ],
      "metadata": {
        "id": "mePLV3IkBsAj"
      }
    },
    {
      "cell_type": "markdown",
      "source": [],
      "metadata": {
        "id": "DCwTThYFGujU"
      }
    },
    {
      "cell_type": "code",
      "execution_count": 1,
      "metadata": {
        "id": "WgPxi7xJEgBv"
      },
      "outputs": [],
      "source": [
        "import pandas as pd\n",
        "import matplotlib.pyplot as plt\n",
        "import seaborn as sns"
      ]
    },
    {
      "cell_type": "code",
      "source": [
        "from google.colab import drive\n",
        "drive.mount('/content/drive')"
      ],
      "metadata": {
        "colab": {
          "base_uri": "https://localhost:8080/"
        },
        "id": "PLr8SU6KEzoO",
        "outputId": "9980555f-b1d6-4fdb-d4ab-02d9daf59075"
      },
      "execution_count": 2,
      "outputs": [
        {
          "output_type": "stream",
          "name": "stdout",
          "text": [
            "Mounted at /content/drive\n"
          ]
        }
      ]
    },
    {
      "cell_type": "code",
      "source": [
        "import os\n",
        "for dirname, _, filenames in os.walk('/content/drive/My Drive/Colab Notebooks/digit-recognizer'):\n",
        "    for filename in filenames:\n",
        "        print(os.path.join(dirname, filename))"
      ],
      "metadata": {
        "colab": {
          "base_uri": "https://localhost:8080/"
        },
        "id": "NBLpSRw1E5GW",
        "outputId": "fb5e0565-76b1-42e9-c943-f534508b8094"
      },
      "execution_count": 3,
      "outputs": [
        {
          "output_type": "stream",
          "name": "stdout",
          "text": [
            "/content/drive/My Drive/Colab Notebooks/digit-recognizer/digit_recognizer.ipynb\n",
            "/content/drive/My Drive/Colab Notebooks/digit-recognizer/test.csv\n",
            "/content/drive/My Drive/Colab Notebooks/digit-recognizer/sample_submission.csv\n",
            "/content/drive/My Drive/Colab Notebooks/digit-recognizer/train.csv\n"
          ]
        }
      ]
    },
    {
      "cell_type": "code",
      "source": [
        "test_ds = pd.read_csv('/content/drive/My Drive/Colab Notebooks/digit-recognizer/test.csv')\n",
        "train_ds = pd.read_csv('/content/drive/My Drive/Colab Notebooks/digit-recognizer/train.csv')"
      ],
      "metadata": {
        "id": "hQ-NTBspFEwL"
      },
      "execution_count": 4,
      "outputs": []
    },
    {
      "cell_type": "markdown",
      "source": [
        "let's vizualise the dataset first :"
      ],
      "metadata": {
        "id": "rkXkKxoUFzBB"
      }
    },
    {
      "cell_type": "code",
      "source": [
        "display(train_ds.head())\n",
        "display(train_ds.info())"
      ],
      "metadata": {
        "colab": {
          "base_uri": "https://localhost:8080/",
          "height": 399
        },
        "id": "gRabRGwJFRFz",
        "outputId": "2ee664b7-a010-48f4-f04e-46a6ae389b3e"
      },
      "execution_count": 5,
      "outputs": [
        {
          "output_type": "display_data",
          "data": {
            "text/plain": [
              "   label  pixel0  pixel1  pixel2  pixel3  pixel4  pixel5  pixel6  pixel7  \\\n",
              "0      1       0       0       0       0       0       0       0       0   \n",
              "1      0       0       0       0       0       0       0       0       0   \n",
              "2      1       0       0       0       0       0       0       0       0   \n",
              "3      4       0       0       0       0       0       0       0       0   \n",
              "4      0       0       0       0       0       0       0       0       0   \n",
              "\n",
              "   pixel8  ...  pixel774  pixel775  pixel776  pixel777  pixel778  pixel779  \\\n",
              "0       0  ...         0         0         0         0         0         0   \n",
              "1       0  ...         0         0         0         0         0         0   \n",
              "2       0  ...         0         0         0         0         0         0   \n",
              "3       0  ...         0         0         0         0         0         0   \n",
              "4       0  ...         0         0         0         0         0         0   \n",
              "\n",
              "   pixel780  pixel781  pixel782  pixel783  \n",
              "0         0         0         0         0  \n",
              "1         0         0         0         0  \n",
              "2         0         0         0         0  \n",
              "3         0         0         0         0  \n",
              "4         0         0         0         0  \n",
              "\n",
              "[5 rows x 785 columns]"
            ],
            "text/html": [
              "\n",
              "  <div id=\"df-669ccd61-af3c-4cd1-bfd1-912ee8499500\">\n",
              "    <div class=\"colab-df-container\">\n",
              "      <div>\n",
              "<style scoped>\n",
              "    .dataframe tbody tr th:only-of-type {\n",
              "        vertical-align: middle;\n",
              "    }\n",
              "\n",
              "    .dataframe tbody tr th {\n",
              "        vertical-align: top;\n",
              "    }\n",
              "\n",
              "    .dataframe thead th {\n",
              "        text-align: right;\n",
              "    }\n",
              "</style>\n",
              "<table border=\"1\" class=\"dataframe\">\n",
              "  <thead>\n",
              "    <tr style=\"text-align: right;\">\n",
              "      <th></th>\n",
              "      <th>label</th>\n",
              "      <th>pixel0</th>\n",
              "      <th>pixel1</th>\n",
              "      <th>pixel2</th>\n",
              "      <th>pixel3</th>\n",
              "      <th>pixel4</th>\n",
              "      <th>pixel5</th>\n",
              "      <th>pixel6</th>\n",
              "      <th>pixel7</th>\n",
              "      <th>pixel8</th>\n",
              "      <th>...</th>\n",
              "      <th>pixel774</th>\n",
              "      <th>pixel775</th>\n",
              "      <th>pixel776</th>\n",
              "      <th>pixel777</th>\n",
              "      <th>pixel778</th>\n",
              "      <th>pixel779</th>\n",
              "      <th>pixel780</th>\n",
              "      <th>pixel781</th>\n",
              "      <th>pixel782</th>\n",
              "      <th>pixel783</th>\n",
              "    </tr>\n",
              "  </thead>\n",
              "  <tbody>\n",
              "    <tr>\n",
              "      <th>0</th>\n",
              "      <td>1</td>\n",
              "      <td>0</td>\n",
              "      <td>0</td>\n",
              "      <td>0</td>\n",
              "      <td>0</td>\n",
              "      <td>0</td>\n",
              "      <td>0</td>\n",
              "      <td>0</td>\n",
              "      <td>0</td>\n",
              "      <td>0</td>\n",
              "      <td>...</td>\n",
              "      <td>0</td>\n",
              "      <td>0</td>\n",
              "      <td>0</td>\n",
              "      <td>0</td>\n",
              "      <td>0</td>\n",
              "      <td>0</td>\n",
              "      <td>0</td>\n",
              "      <td>0</td>\n",
              "      <td>0</td>\n",
              "      <td>0</td>\n",
              "    </tr>\n",
              "    <tr>\n",
              "      <th>1</th>\n",
              "      <td>0</td>\n",
              "      <td>0</td>\n",
              "      <td>0</td>\n",
              "      <td>0</td>\n",
              "      <td>0</td>\n",
              "      <td>0</td>\n",
              "      <td>0</td>\n",
              "      <td>0</td>\n",
              "      <td>0</td>\n",
              "      <td>0</td>\n",
              "      <td>...</td>\n",
              "      <td>0</td>\n",
              "      <td>0</td>\n",
              "      <td>0</td>\n",
              "      <td>0</td>\n",
              "      <td>0</td>\n",
              "      <td>0</td>\n",
              "      <td>0</td>\n",
              "      <td>0</td>\n",
              "      <td>0</td>\n",
              "      <td>0</td>\n",
              "    </tr>\n",
              "    <tr>\n",
              "      <th>2</th>\n",
              "      <td>1</td>\n",
              "      <td>0</td>\n",
              "      <td>0</td>\n",
              "      <td>0</td>\n",
              "      <td>0</td>\n",
              "      <td>0</td>\n",
              "      <td>0</td>\n",
              "      <td>0</td>\n",
              "      <td>0</td>\n",
              "      <td>0</td>\n",
              "      <td>...</td>\n",
              "      <td>0</td>\n",
              "      <td>0</td>\n",
              "      <td>0</td>\n",
              "      <td>0</td>\n",
              "      <td>0</td>\n",
              "      <td>0</td>\n",
              "      <td>0</td>\n",
              "      <td>0</td>\n",
              "      <td>0</td>\n",
              "      <td>0</td>\n",
              "    </tr>\n",
              "    <tr>\n",
              "      <th>3</th>\n",
              "      <td>4</td>\n",
              "      <td>0</td>\n",
              "      <td>0</td>\n",
              "      <td>0</td>\n",
              "      <td>0</td>\n",
              "      <td>0</td>\n",
              "      <td>0</td>\n",
              "      <td>0</td>\n",
              "      <td>0</td>\n",
              "      <td>0</td>\n",
              "      <td>...</td>\n",
              "      <td>0</td>\n",
              "      <td>0</td>\n",
              "      <td>0</td>\n",
              "      <td>0</td>\n",
              "      <td>0</td>\n",
              "      <td>0</td>\n",
              "      <td>0</td>\n",
              "      <td>0</td>\n",
              "      <td>0</td>\n",
              "      <td>0</td>\n",
              "    </tr>\n",
              "    <tr>\n",
              "      <th>4</th>\n",
              "      <td>0</td>\n",
              "      <td>0</td>\n",
              "      <td>0</td>\n",
              "      <td>0</td>\n",
              "      <td>0</td>\n",
              "      <td>0</td>\n",
              "      <td>0</td>\n",
              "      <td>0</td>\n",
              "      <td>0</td>\n",
              "      <td>0</td>\n",
              "      <td>...</td>\n",
              "      <td>0</td>\n",
              "      <td>0</td>\n",
              "      <td>0</td>\n",
              "      <td>0</td>\n",
              "      <td>0</td>\n",
              "      <td>0</td>\n",
              "      <td>0</td>\n",
              "      <td>0</td>\n",
              "      <td>0</td>\n",
              "      <td>0</td>\n",
              "    </tr>\n",
              "  </tbody>\n",
              "</table>\n",
              "<p>5 rows × 785 columns</p>\n",
              "</div>\n",
              "      <button class=\"colab-df-convert\" onclick=\"convertToInteractive('df-669ccd61-af3c-4cd1-bfd1-912ee8499500')\"\n",
              "              title=\"Convert this dataframe to an interactive table.\"\n",
              "              style=\"display:none;\">\n",
              "        \n",
              "  <svg xmlns=\"http://www.w3.org/2000/svg\" height=\"24px\"viewBox=\"0 0 24 24\"\n",
              "       width=\"24px\">\n",
              "    <path d=\"M0 0h24v24H0V0z\" fill=\"none\"/>\n",
              "    <path d=\"M18.56 5.44l.94 2.06.94-2.06 2.06-.94-2.06-.94-.94-2.06-.94 2.06-2.06.94zm-11 1L8.5 8.5l.94-2.06 2.06-.94-2.06-.94L8.5 2.5l-.94 2.06-2.06.94zm10 10l.94 2.06.94-2.06 2.06-.94-2.06-.94-.94-2.06-.94 2.06-2.06.94z\"/><path d=\"M17.41 7.96l-1.37-1.37c-.4-.4-.92-.59-1.43-.59-.52 0-1.04.2-1.43.59L10.3 9.45l-7.72 7.72c-.78.78-.78 2.05 0 2.83L4 21.41c.39.39.9.59 1.41.59.51 0 1.02-.2 1.41-.59l7.78-7.78 2.81-2.81c.8-.78.8-2.07 0-2.86zM5.41 20L4 18.59l7.72-7.72 1.47 1.35L5.41 20z\"/>\n",
              "  </svg>\n",
              "      </button>\n",
              "      \n",
              "  <style>\n",
              "    .colab-df-container {\n",
              "      display:flex;\n",
              "      flex-wrap:wrap;\n",
              "      gap: 12px;\n",
              "    }\n",
              "\n",
              "    .colab-df-convert {\n",
              "      background-color: #E8F0FE;\n",
              "      border: none;\n",
              "      border-radius: 50%;\n",
              "      cursor: pointer;\n",
              "      display: none;\n",
              "      fill: #1967D2;\n",
              "      height: 32px;\n",
              "      padding: 0 0 0 0;\n",
              "      width: 32px;\n",
              "    }\n",
              "\n",
              "    .colab-df-convert:hover {\n",
              "      background-color: #E2EBFA;\n",
              "      box-shadow: 0px 1px 2px rgba(60, 64, 67, 0.3), 0px 1px 3px 1px rgba(60, 64, 67, 0.15);\n",
              "      fill: #174EA6;\n",
              "    }\n",
              "\n",
              "    [theme=dark] .colab-df-convert {\n",
              "      background-color: #3B4455;\n",
              "      fill: #D2E3FC;\n",
              "    }\n",
              "\n",
              "    [theme=dark] .colab-df-convert:hover {\n",
              "      background-color: #434B5C;\n",
              "      box-shadow: 0px 1px 3px 1px rgba(0, 0, 0, 0.15);\n",
              "      filter: drop-shadow(0px 1px 2px rgba(0, 0, 0, 0.3));\n",
              "      fill: #FFFFFF;\n",
              "    }\n",
              "  </style>\n",
              "\n",
              "      <script>\n",
              "        const buttonEl =\n",
              "          document.querySelector('#df-669ccd61-af3c-4cd1-bfd1-912ee8499500 button.colab-df-convert');\n",
              "        buttonEl.style.display =\n",
              "          google.colab.kernel.accessAllowed ? 'block' : 'none';\n",
              "\n",
              "        async function convertToInteractive(key) {\n",
              "          const element = document.querySelector('#df-669ccd61-af3c-4cd1-bfd1-912ee8499500');\n",
              "          const dataTable =\n",
              "            await google.colab.kernel.invokeFunction('convertToInteractive',\n",
              "                                                     [key], {});\n",
              "          if (!dataTable) return;\n",
              "\n",
              "          const docLinkHtml = 'Like what you see? Visit the ' +\n",
              "            '<a target=\"_blank\" href=https://colab.research.google.com/notebooks/data_table.ipynb>data table notebook</a>'\n",
              "            + ' to learn more about interactive tables.';\n",
              "          element.innerHTML = '';\n",
              "          dataTable['output_type'] = 'display_data';\n",
              "          await google.colab.output.renderOutput(dataTable, element);\n",
              "          const docLink = document.createElement('div');\n",
              "          docLink.innerHTML = docLinkHtml;\n",
              "          element.appendChild(docLink);\n",
              "        }\n",
              "      </script>\n",
              "    </div>\n",
              "  </div>\n",
              "  "
            ]
          },
          "metadata": {}
        },
        {
          "output_type": "stream",
          "name": "stdout",
          "text": [
            "<class 'pandas.core.frame.DataFrame'>\n",
            "RangeIndex: 42000 entries, 0 to 41999\n",
            "Columns: 785 entries, label to pixel783\n",
            "dtypes: int64(785)\n",
            "memory usage: 251.5 MB\n"
          ]
        },
        {
          "output_type": "display_data",
          "data": {
            "text/plain": [
              "None"
            ]
          },
          "metadata": {}
        }
      ]
    },
    {
      "cell_type": "markdown",
      "source": [
        "Now let's start with our class number to know which number we will find."
      ],
      "metadata": {
        "id": "qnAIrZjrG9PJ"
      }
    },
    {
      "cell_type": "markdown",
      "source": [
        "### Analyse des données :"
      ],
      "metadata": {
        "id": "_MpjLeBfCWem"
      }
    },
    {
      "cell_type": "markdown",
      "source": [],
      "metadata": {
        "id": "iX7rFWlzGwGL"
      }
    },
    {
      "cell_type": "code",
      "source": [
        "num_classes = len(train_ds['label'].unique()) # Count the number of unique number normally we will have 10"
      ],
      "metadata": {
        "id": "RKAo9JFVHFlO"
      },
      "execution_count": 6,
      "outputs": []
    },
    {
      "cell_type": "code",
      "source": [
        "num_classes # Confirm we have 10 classes "
      ],
      "metadata": {
        "colab": {
          "base_uri": "https://localhost:8080/"
        },
        "id": "_ptKdpc1HOd5",
        "outputId": "ac6acae0-2302-4f9a-8773-8134d89129a7"
      },
      "execution_count": 7,
      "outputs": [
        {
          "output_type": "execute_result",
          "data": {
            "text/plain": [
              "10"
            ]
          },
          "metadata": {},
          "execution_count": 7
        }
      ]
    },
    {
      "cell_type": "code",
      "source": [],
      "metadata": {
        "id": "JMBRMIH4CWv6"
      },
      "execution_count": null,
      "outputs": []
    },
    {
      "cell_type": "markdown",
      "source": [
        "### Graphique de visualisation des données :"
      ],
      "metadata": {
        "id": "AFcUQA1M69XX"
      }
    },
    {
      "cell_type": "markdown",
      "source": [],
      "metadata": {
        "id": "8a1sDtE-GyCw"
      }
    },
    {
      "cell_type": "markdown",
      "source": [
        "Now we will have some random vizualisation of the score :"
      ],
      "metadata": {
        "id": "Swy-yWzqGRTh"
      }
    },
    {
      "cell_type": "code",
      "source": [
        "IMG_SIZE = (28,28,1)\n",
        "# Sample digit image\n",
        "sample_images = train_ds.iloc[0:5,1:].values.reshape((-1,)+IMG_SIZE) # vizualise some numbers\n",
        "fig, axs = plt.subplots(1, sample_images.shape[0])\n",
        "for i,img in enumerate(sample_images):\n",
        "    axs[i].imshow(img)\n",
        "    axs[i].set_xlabel(f'label: {train_ds.iloc[i,0]}')\n",
        "    axs[i].xaxis.label.set_color('red')"
      ],
      "metadata": {
        "colab": {
          "base_uri": "https://localhost:8080/",
          "height": 169
        },
        "id": "aAJ3Rfu1HbKF",
        "outputId": "ac861d2b-d1a0-4019-fa03-9242b6e11587"
      },
      "execution_count": 19,
      "outputs": [
        {
          "output_type": "display_data",
          "data": {
            "text/plain": [
              "<Figure size 640x480 with 5 Axes>"
            ],
            "image/png": "[encoded data removed]"
          },
          "metadata": {}
        }
      ]
    },
    {
      "cell_type": "code",
      "source": [
        "import matplotlib.pyplot as plt\n",
        "import numpy as np\n",
        "\n",
        "# Extraire les pixels et les labels des données d'entraînement\n",
        "pixels = train_ds.drop('label', axis=1).values\n",
        "labels = train_ds['label'].values\n",
        "\n",
        "# Affiche les 10 premières images avec leur titre :\n",
        "fig, axes = plt.subplots(3, 5, figsize=(10, 6)) # 2 lignes avec 5 colonnes\n",
        "axes = axes.flatten()\n",
        "\n",
        "\n",
        "for i in range(15):\n",
        "    img = pixels[i].reshape(28, 28)  # Remodeler les pixels en une image 28x28 (norme)\n",
        "    axes[i].imshow(img, cmap='magma') # magma because it's a personal choice i like it !\n",
        "    axes[i].set_title(f\"Label: {labels[i]}\")\n",
        "    axes[i].grid(True) # i don't know if the grid is good or not but i like it too so..\n",
        "  \n",
        "plt.tight_layout()\n",
        "plt.show()"
      ],
      "metadata": {
        "colab": {
          "base_uri": "https://localhost:8080/",
          "height": 609
        },
        "id": "BkXdvoO_6j6A",
        "outputId": "f1250370-1b7f-4fd9-903b-bd8948722678"
      },
      "execution_count": 23,
      "outputs": [
        {
          "output_type": "display_data",
          "data": {
            "text/plain": [
              "<Figure size 1000x600 with 15 Axes>"
            ],
            "image/png": "[encoded data removed]"
          },
          "metadata": {}
        }
      ]
    },
    {
      "cell_type": "markdown",
      "source": [
        "## Pré-traitement des données :"
      ],
      "metadata": {
        "id": "btzLdOjd_L8-"
      }
    },
    {
      "cell_type": "markdown",
      "source": [],
      "metadata": {
        "id": "y0Hv4onSGzkp"
      }
    },
    {
      "cell_type": "markdown",
      "source": [
        "__Prétraitement des données :__\n",
        "\n",
        "- la normalisation des pixels (mettre les pixels à une échelle de 0 à 1)\n",
        "- le redimensionnement des images (si entrée modéle spécifique)\n",
        "- l'augmentation des données. (pour augmenter la taille du modéle et améliore la généralisation du modéle)\n",
        "\n",
        "\n"
      ],
      "metadata": {
        "id": "KZzwet-e_OGJ"
      }
    },
    {
      "cell_type": "code",
      "source": [
        "from sklearn.preprocessing import RobustScaler\n",
        "from skimage.transform import resize\n",
        "from tensorflow.keras.preprocessing.image import ImageDataGenerator"
      ],
      "metadata": {
        "id": "W11bpvfUDdlJ"
      },
      "execution_count": 24,
      "outputs": []
    },
    {
      "cell_type": "markdown",
      "source": [
        "### Normalisation des données :"
      ],
      "metadata": {
        "id": "eJKqlTx1E0b5"
      }
    },
    {
      "cell_type": "markdown",
      "source": [],
      "metadata": {
        "id": "ghHOsCo5FpRH"
      }
    },
    {
      "cell_type": "code",
      "source": [
        "# Normalisation robuste des pixels\n",
        "scaler = RobustScaler()\n",
        "normalized_pixels = scaler.fit_transform(pixels)"
      ],
      "metadata": {
        "id": "0dd68v73E32F"
      },
      "execution_count": 28,
      "outputs": []
    },
    {
      "cell_type": "markdown",
      "source": [
        "### Redimension des données : "
      ],
      "metadata": {
        "id": "FPyNFg2eE5ZX"
      }
    },
    {
      "cell_type": "markdown",
      "source": [],
      "metadata": {
        "id": "yVxn7TZIFqAu"
      }
    },
    {
      "cell_type": "code",
      "source": [
        "# Normalisation robuste des pixels\n",
        "scaler = RobustScaler()\n",
        "normalized_pixels = scaler.fit_transform(pixels)\n",
        "\n",
        "# Redimensionnement des images\n",
        "resized_images = np.array([resize(img.reshape(28, 28), (28, 28), anti_aliasing=True) for img in normalized_pixels])\n",
        "\n",
        "# Ajouter une dimension pour les canaux de couleur (niveaux de gris)\n",
        "resized_images = resized_images.reshape(resized_images.shape + (1,))"
      ],
      "metadata": {
        "id": "DL2EK6iNE7uP"
      },
      "execution_count": 29,
      "outputs": []
    },
    {
      "cell_type": "markdown",
      "source": [
        "### Augmentation des données :"
      ],
      "metadata": {
        "id": "CBy7IjvGE_vj"
      }
    },
    {
      "cell_type": "markdown",
      "source": [],
      "metadata": {
        "id": "CLpXhcrdFquE"
      }
    },
    {
      "cell_type": "code",
      "source": [
        "# Augmentation des données\n",
        "datagen = ImageDataGenerator(rotation_range=10, width_shift_range=0.1, height_shift_range=0.1, zoom_range=0.1)\n",
        "datagen.fit(resized_images)  # Adapter le générateur aux données\n",
        "\n",
        "# Générer les images augmentées\n",
        "augmented_images = datagen.flow(resized_images, batch_size=1, shuffle=False)"
      ],
      "metadata": {
        "id": "r5mwP_dI6j7v"
      },
      "execution_count": 30,
      "outputs": []
    },
    {
      "cell_type": "markdown",
      "source": [
        "### Visualisation du pré-traitement : "
      ],
      "metadata": {
        "id": "L8evVCxIFD0u"
      }
    },
    {
      "cell_type": "markdown",
      "source": [
        "L'augmentation des données permet de mettre de la variabilité dans les données en appliquant des transformations aléatoires aux images existantes. \n",
        "\n",
        "Ca améliore la capacité de généralisation du modèle en lui donnant plus de données pour l'apprentissage du modéle."
      ],
      "metadata": {
        "id": "LNsOCWp4Frvc"
      }
    },
    {
      "cell_type": "code",
      "source": [
        "print(\"Dimensions des données originales :\", resized_images.shape)\n",
        "print(\"Dimensions des données augmentées :\", augmented_images[0][0].shape)"
      ],
      "metadata": {
        "colab": {
          "base_uri": "https://localhost:8080/"
        },
        "id": "E6IsGl366j-M",
        "outputId": "182ab171-3f94-4192-f542-2e9f8df3f35c"
      },
      "execution_count": 31,
      "outputs": [
        {
          "output_type": "stream",
          "name": "stdout",
          "text": [
            "Dimensions des données originales : (42000, 28, 28, 1)\n",
            "Dimensions des données augmentées : (28, 28, 1)\n"
          ]
        }
      ]
    },
    {
      "cell_type": "code",
      "source": [
        "# Génération des images augmentées :\n",
        "generated_images = datagen.flow(resized_images, batch_size=1, shuffle=False)\n",
        "\n",
        "# Affichage des images augmentées :\n",
        "fig, axes = plt.subplots(3, 5, figsize=(12, 8))\n",
        "axes = axes.flatten()\n",
        "\n",
        "for i in range(15):\n",
        "    img = generated_images[i][0].reshape(28, 28)  # Remodeler les pixels en une image 28x28 (norme)\n",
        "    axes[i].imshow(img, cmap='magma') # choix de la couleur d'affichage (cmap)\n",
        "    axes[i].axis('off')\n",
        "\n",
        "plt.tight_layout()\n",
        "plt.show()\n"
      ],
      "metadata": {
        "colab": {
          "base_uri": "https://localhost:8080/",
          "height": 768
        },
        "id": "zWhcB8JZFdEM",
        "outputId": "fedbe1f0-0460-4b02-8584-f10df5860f06"
      },
      "execution_count": 34,
      "outputs": [
        {
          "output_type": "display_data",
          "data": {
            "text/plain": [
              "<Figure size 1200x800 with 15 Axes>"
            ],
            "image/png": "[encoded data removed]"
          },
          "metadata": {}
        }
      ]
    },
    {
      "cell_type": "markdown",
      "source": [
        "## Choix du modéle from scratch :"
      ],
      "metadata": {
        "id": "OzyrC9P3FNY1"
      }
    }
  ]
}