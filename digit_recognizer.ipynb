{
  "cells": [
    {
      "cell_type": "markdown",
      "metadata": {
        "id": "view-in-github",
        "colab_type": "text"
      },
      "source": [
        "<a href=\"https://colab.research.google.com/github/Aurelien07/Kaggle_competition/blob/main/digit_recognizer.ipynb\" target=\"_parent\"><img src=\"https://colab.research.google.com/assets/colab-badge.svg\" alt=\"Open In Colab\"/></a>"
      ]
    },
    {
      "cell_type": "markdown",
      "metadata": {
        "id": "G6ftekpKAnxY"
      },
      "source": [
        "# Digit  Recognizer project :"
      ]
    },
    {
      "cell_type": "markdown",
      "metadata": {
        "id": "Cgcj27FCAqTo"
      },
      "source": [
        "In this project, our outline will be something similar to this:\n",
        "\n",
        " -  Data Visualization\n",
        " -  Data Preprocessing\n",
        "    - Data Normalisation\n",
        "    - Splitting Data\n",
        "    - Data Augmentation\n",
        " -  Model Selection (from scratch)\n",
        "    -  Model Training\n",
        "    -  Model Evaluation\n",
        "    -  Predictions on Test Data\n",
        " -  Detection Script\n",
        " -  Conclusion\n"
      ]
    },
    {
      "cell_type": "markdown",
      "metadata": {
        "id": "pKydfiGY7CVF"
      },
      "source": [
        "## Data Visualization :"
      ]
    },
    {
      "cell_type": "code",
      "execution_count": 1,
      "metadata": {
        "id": "3HGjzirQLEke"
      },
      "outputs": [],
      "source": [
        "def visu(data):\n",
        "    \"\"\"\n",
        "    Displays a custom visualization of information from a DataFrame.\n",
        "\n",
        "    Parameters:\n",
        "    ----------\n",
        "    data : pd.DataFrame\n",
        "        DataFrame containing the data to visualize.\n",
        "    \"\"\"\n",
        "\n",
        "    print('-'*100)\n",
        "    print(\" \" * 45 + '\\033[1m' + \"Shape :\" + '\\033[0m')\n",
        "    print('-'*100)\n",
        "    print(f\"The shape in the DataFrame is: {data.shape}\\n\")\n",
        "    print('-'*100)\n",
        "    print(\" \" * 45 + '\\033[1m' + \"Head :\" + '\\033[0m')\n",
        "    print('-'*100)\n",
        "    \n",
        "    while True:\n",
        "        try:\n",
        "            num_rows = int(input(\"The number of rows : \"))\n",
        "            if num_rows > 0:\n",
        "                break\n",
        "            else:\n",
        "                print(\"The number of rows must be an integer.\")\n",
        "        except ValueError:\n",
        "            print(\"Please enter an integer.\")\n",
        "    \n",
        "    display(data.head(num_rows))\n",
        "    \n",
        "    print('-'*100)\n",
        "    print(\" \" * 45 + '\\033[1m' + \"Describe :\" + '\\033[0m')\n",
        "    print('-'*100)\n",
        "    \n",
        "    while True:\n",
        "        columns = input(\"Names of columns (separated by commas): \")\n",
        "        if columns:\n",
        "            columns = [col.strip() for col in columns.split(',')]\n",
        "            if all(col in data.columns for col in columns):\n",
        "                break\n",
        "            else:\n",
        "                print(\"Some column names are invalid. Please try again.\")\n",
        "        else:\n",
        "            break\n",
        "    \n",
        "    if columns:\n",
        "        display(data[columns].describe().T)\n",
        "    else:\n",
        "        display(data.describe().T)\n",
        "    \n",
        "    print('-'*100)\n",
        "    print(\" \" * 41 + '\\033[1m' + \"Data Types :\" + '\\033[0m')\n",
        "    print('-'*100)\n",
        "    display(data.dtypes)\n"
      ]
    },
    {
      "cell_type": "markdown",
      "metadata": {
        "id": "mePLV3IkBsAj"
      },
      "source": [
        "### Data Exploration :"
      ]
    },
    {
      "cell_type": "markdown",
      "metadata": {
        "id": "DCwTThYFGujU"
      },
      "source": []
    },
    {
      "cell_type": "code",
      "execution_count": 2,
      "metadata": {
        "id": "WgPxi7xJEgBv"
      },
      "outputs": [],
      "source": [
        "import pandas as pd\n",
        "import numpy as np\n",
        "\n",
        "import matplotlib.pyplot as plt\n",
        "import seaborn as sns\n",
        "\n",
        "import os\n",
        "\n",
        "from skimage import io\n",
        "\n",
        "from keras.preprocessing.image import ImageDataGenerator"
      ]
    },
    {
      "cell_type": "code",
      "execution_count": 3,
      "metadata": {
        "id": "GPyy4816BjDv"
      },
      "outputs": [],
      "source": [
        "import warnings\n",
        "warnings.filterwarnings('ignore')"
      ]
    },
    {
      "cell_type": "code",
      "execution_count": 4,
      "metadata": {
        "colab": {
          "base_uri": "https://localhost:8080/"
        },
        "id": "PLr8SU6KEzoO",
        "outputId": "a9e805c0-0d08-488c-f1c2-2fb17ff4bf66"
      },
      "outputs": [
        {
          "output_type": "stream",
          "name": "stdout",
          "text": [
            "Mounted at /content/drive\n"
          ]
        }
      ],
      "source": [
        "from google.colab import drive\n",
        "drive.mount('/content/drive')"
      ]
    },
    {
      "cell_type": "code",
      "execution_count": 5,
      "metadata": {
        "colab": {
          "base_uri": "https://localhost:8080/"
        },
        "id": "NBLpSRw1E5GW",
        "outputId": "4b3731e0-3ae4-4386-e908-8ee98b825239"
      },
      "outputs": [
        {
          "output_type": "stream",
          "name": "stdout",
          "text": [
            "/content/drive/My Drive/Colab Notebooks/digit-recognizer/test.csv\n",
            "/content/drive/My Drive/Colab Notebooks/digit-recognizer/sample_submission.csv\n",
            "/content/drive/My Drive/Colab Notebooks/digit-recognizer/train.csv\n",
            "/content/drive/My Drive/Colab Notebooks/digit-recognizer/digit_recognizer.ipynb\n"
          ]
        }
      ],
      "source": [
        "import os\n",
        "for dirname, _, filenames in os.walk('/content/drive/My Drive/Colab Notebooks/digit-recognizer'):\n",
        "    for filename in filenames:\n",
        "        print(os.path.join(dirname, filename))"
      ]
    },
    {
      "cell_type": "code",
      "execution_count": 6,
      "metadata": {
        "id": "hQ-NTBspFEwL"
      },
      "outputs": [],
      "source": [
        "test_ds = pd.read_csv('/content/drive/My Drive/Colab Notebooks/digit-recognizer/test.csv')\n",
        "train_ds = pd.read_csv('/content/drive/My Drive/Colab Notebooks/digit-recognizer/train.csv')"
      ]
    },
    {
      "cell_type": "markdown",
      "metadata": {
        "id": "rkXkKxoUFzBB"
      },
      "source": [
        "let's vizualise the dataset first :"
      ]
    },
    {
      "cell_type": "code",
      "execution_count": 7,
      "metadata": {
        "colab": {
          "base_uri": "https://localhost:8080/",
          "height": 836
        },
        "id": "bK4QOLyHLNYM",
        "outputId": "4e604d22-359a-443d-9f0b-863fdc3873d2"
      },
      "outputs": [
        {
          "name": "stdout",
          "output_type": "stream",
          "text": [
            "----------------------------------------------------------------------------------------------------\n",
            "                                             \u001b[1mShape :\u001b[0m\n",
            "----------------------------------------------------------------------------------------------------\n",
            "The shape in the DataFrame is: (42000, 785)\n",
            "\n",
            "----------------------------------------------------------------------------------------------------\n",
            "                                             \u001b[1mHead :\u001b[0m\n",
            "----------------------------------------------------------------------------------------------------\n",
            "The number of rows : 5\n"
          ]
        },
        {
          "output_type": "display_data",
          "data": {
            "text/plain": [
              "   label  pixel0  pixel1  pixel2  pixel3  pixel4  pixel5  pixel6  pixel7  \\\n",
              "0      1       0       0       0       0       0       0       0       0   \n",
              "1      0       0       0       0       0       0       0       0       0   \n",
              "2      1       0       0       0       0       0       0       0       0   \n",
              "3      4       0       0       0       0       0       0       0       0   \n",
              "4      0       0       0       0       0       0       0       0       0   \n",
              "\n",
              "   pixel8  ...  pixel774  pixel775  pixel776  pixel777  pixel778  pixel779  \\\n",
              "0       0  ...         0         0         0         0         0         0   \n",
              "1       0  ...         0         0         0         0         0         0   \n",
              "2       0  ...         0         0         0         0         0         0   \n",
              "3       0  ...         0         0         0         0         0         0   \n",
              "4       0  ...         0         0         0         0         0         0   \n",
              "\n",
              "   pixel780  pixel781  pixel782  pixel783  \n",
              "0         0         0         0         0  \n",
              "1         0         0         0         0  \n",
              "2         0         0         0         0  \n",
              "3         0         0         0         0  \n",
              "4         0         0         0         0  \n",
              "\n",
              "[5 rows x 785 columns]"
            ],
            "text/html": [
              "\n",
              "  <div id=\"df-b6f3f4e3-7f0c-4ba1-95d6-8dde656f3aef\">\n",
              "    <div class=\"colab-df-container\">\n",
              "      <div>\n",
              "<style scoped>\n",
              "    .dataframe tbody tr th:only-of-type {\n",
              "        vertical-align: middle;\n",
              "    }\n",
              "\n",
              "    .dataframe tbody tr th {\n",
              "        vertical-align: top;\n",
              "    }\n",
              "\n",
              "    .dataframe thead th {\n",
              "        text-align: right;\n",
              "    }\n",
              "</style>\n",
              "<table border=\"1\" class=\"dataframe\">\n",
              "  <thead>\n",
              "    <tr style=\"text-align: right;\">\n",
              "      <th></th>\n",
              "      <th>label</th>\n",
              "      <th>pixel0</th>\n",
              "      <th>pixel1</th>\n",
              "      <th>pixel2</th>\n",
              "      <th>pixel3</th>\n",
              "      <th>pixel4</th>\n",
              "      <th>pixel5</th>\n",
              "      <th>pixel6</th>\n",
              "      <th>pixel7</th>\n",
              "      <th>pixel8</th>\n",
              "      <th>...</th>\n",
              "      <th>pixel774</th>\n",
              "      <th>pixel775</th>\n",
              "      <th>pixel776</th>\n",
              "      <th>pixel777</th>\n",
              "      <th>pixel778</th>\n",
              "      <th>pixel779</th>\n",
              "      <th>pixel780</th>\n",
              "      <th>pixel781</th>\n",
              "      <th>pixel782</th>\n",
              "      <th>pixel783</th>\n",
              "    </tr>\n",
              "  </thead>\n",
              "  <tbody>\n",
              "    <tr>\n",
              "      <th>0</th>\n",
              "      <td>1</td>\n",
              "      <td>0</td>\n",
              "      <td>0</td>\n",
              "      <td>0</td>\n",
              "      <td>0</td>\n",
              "      <td>0</td>\n",
              "      <td>0</td>\n",
              "      <td>0</td>\n",
              "      <td>0</td>\n",
              "      <td>0</td>\n",
              "      <td>...</td>\n",
              "      <td>0</td>\n",
              "      <td>0</td>\n",
              "      <td>0</td>\n",
              "      <td>0</td>\n",
              "      <td>0</td>\n",
              "      <td>0</td>\n",
              "      <td>0</td>\n",
              "      <td>0</td>\n",
              "      <td>0</td>\n",
              "      <td>0</td>\n",
              "    </tr>\n",
              "    <tr>\n",
              "      <th>1</th>\n",
              "      <td>0</td>\n",
              "      <td>0</td>\n",
              "      <td>0</td>\n",
              "      <td>0</td>\n",
              "      <td>0</td>\n",
              "      <td>0</td>\n",
              "      <td>0</td>\n",
              "      <td>0</td>\n",
              "      <td>0</td>\n",
              "      <td>0</td>\n",
              "      <td>...</td>\n",
              "      <td>0</td>\n",
              "      <td>0</td>\n",
              "      <td>0</td>\n",
              "      <td>0</td>\n",
              "      <td>0</td>\n",
              "      <td>0</td>\n",
              "      <td>0</td>\n",
              "      <td>0</td>\n",
              "      <td>0</td>\n",
              "      <td>0</td>\n",
              "    </tr>\n",
              "    <tr>\n",
              "      <th>2</th>\n",
              "      <td>1</td>\n",
              "      <td>0</td>\n",
              "      <td>0</td>\n",
              "      <td>0</td>\n",
              "      <td>0</td>\n",
              "      <td>0</td>\n",
              "      <td>0</td>\n",
              "      <td>0</td>\n",
              "      <td>0</td>\n",
              "      <td>0</td>\n",
              "      <td>...</td>\n",
              "      <td>0</td>\n",
              "      <td>0</td>\n",
              "      <td>0</td>\n",
              "      <td>0</td>\n",
              "      <td>0</td>\n",
              "      <td>0</td>\n",
              "      <td>0</td>\n",
              "      <td>0</td>\n",
              "      <td>0</td>\n",
              "      <td>0</td>\n",
              "    </tr>\n",
              "    <tr>\n",
              "      <th>3</th>\n",
              "      <td>4</td>\n",
              "      <td>0</td>\n",
              "      <td>0</td>\n",
              "      <td>0</td>\n",
              "      <td>0</td>\n",
              "      <td>0</td>\n",
              "      <td>0</td>\n",
              "      <td>0</td>\n",
              "      <td>0</td>\n",
              "      <td>0</td>\n",
              "      <td>...</td>\n",
              "      <td>0</td>\n",
              "      <td>0</td>\n",
              "      <td>0</td>\n",
              "      <td>0</td>\n",
              "      <td>0</td>\n",
              "      <td>0</td>\n",
              "      <td>0</td>\n",
              "      <td>0</td>\n",
              "      <td>0</td>\n",
              "      <td>0</td>\n",
              "    </tr>\n",
              "    <tr>\n",
              "      <th>4</th>\n",
              "      <td>0</td>\n",
              "      <td>0</td>\n",
              "      <td>0</td>\n",
              "      <td>0</td>\n",
              "      <td>0</td>\n",
              "      <td>0</td>\n",
              "      <td>0</td>\n",
              "      <td>0</td>\n",
              "      <td>0</td>\n",
              "      <td>0</td>\n",
              "      <td>...</td>\n",
              "      <td>0</td>\n",
              "      <td>0</td>\n",
              "      <td>0</td>\n",
              "      <td>0</td>\n",
              "      <td>0</td>\n",
              "      <td>0</td>\n",
              "      <td>0</td>\n",
              "      <td>0</td>\n",
              "      <td>0</td>\n",
              "      <td>0</td>\n",
              "    </tr>\n",
              "  </tbody>\n",
              "</table>\n",
              "<p>5 rows × 785 columns</p>\n",
              "</div>\n",
              "      <button class=\"colab-df-convert\" onclick=\"convertToInteractive('df-b6f3f4e3-7f0c-4ba1-95d6-8dde656f3aef')\"\n",
              "              title=\"Convert this dataframe to an interactive table.\"\n",
              "              style=\"display:none;\">\n",
              "        \n",
              "  <svg xmlns=\"http://www.w3.org/2000/svg\" height=\"24px\"viewBox=\"0 0 24 24\"\n",
              "       width=\"24px\">\n",
              "    <path d=\"M0 0h24v24H0V0z\" fill=\"none\"/>\n",
              "    <path d=\"M18.56 5.44l.94 2.06.94-2.06 2.06-.94-2.06-.94-.94-2.06-.94 2.06-2.06.94zm-11 1L8.5 8.5l.94-2.06 2.06-.94-2.06-.94L8.5 2.5l-.94 2.06-2.06.94zm10 10l.94 2.06.94-2.06 2.06-.94-2.06-.94-.94-2.06-.94 2.06-2.06.94z\"/><path d=\"M17.41 7.96l-1.37-1.37c-.4-.4-.92-.59-1.43-.59-.52 0-1.04.2-1.43.59L10.3 9.45l-7.72 7.72c-.78.78-.78 2.05 0 2.83L4 21.41c.39.39.9.59 1.41.59.51 0 1.02-.2 1.41-.59l7.78-7.78 2.81-2.81c.8-.78.8-2.07 0-2.86zM5.41 20L4 18.59l7.72-7.72 1.47 1.35L5.41 20z\"/>\n",
              "  </svg>\n",
              "      </button>\n",
              "      \n",
              "  <style>\n",
              "    .colab-df-container {\n",
              "      display:flex;\n",
              "      flex-wrap:wrap;\n",
              "      gap: 12px;\n",
              "    }\n",
              "\n",
              "    .colab-df-convert {\n",
              "      background-color: #E8F0FE;\n",
              "      border: none;\n",
              "      border-radius: 50%;\n",
              "      cursor: pointer;\n",
              "      display: none;\n",
              "      fill: #1967D2;\n",
              "      height: 32px;\n",
              "      padding: 0 0 0 0;\n",
              "      width: 32px;\n",
              "    }\n",
              "\n",
              "    .colab-df-convert:hover {\n",
              "      background-color: #E2EBFA;\n",
              "      box-shadow: 0px 1px 2px rgba(60, 64, 67, 0.3), 0px 1px 3px 1px rgba(60, 64, 67, 0.15);\n",
              "      fill: #174EA6;\n",
              "    }\n",
              "\n",
              "    [theme=dark] .colab-df-convert {\n",
              "      background-color: #3B4455;\n",
              "      fill: #D2E3FC;\n",
              "    }\n",
              "\n",
              "    [theme=dark] .colab-df-convert:hover {\n",
              "      background-color: #434B5C;\n",
              "      box-shadow: 0px 1px 3px 1px rgba(0, 0, 0, 0.15);\n",
              "      filter: drop-shadow(0px 1px 2px rgba(0, 0, 0, 0.3));\n",
              "      fill: #FFFFFF;\n",
              "    }\n",
              "  </style>\n",
              "\n",
              "      <script>\n",
              "        const buttonEl =\n",
              "          document.querySelector('#df-b6f3f4e3-7f0c-4ba1-95d6-8dde656f3aef button.colab-df-convert');\n",
              "        buttonEl.style.display =\n",
              "          google.colab.kernel.accessAllowed ? 'block' : 'none';\n",
              "\n",
              "        async function convertToInteractive(key) {\n",
              "          const element = document.querySelector('#df-b6f3f4e3-7f0c-4ba1-95d6-8dde656f3aef');\n",
              "          const dataTable =\n",
              "            await google.colab.kernel.invokeFunction('convertToInteractive',\n",
              "                                                     [key], {});\n",
              "          if (!dataTable) return;\n",
              "\n",
              "          const docLinkHtml = 'Like what you see? Visit the ' +\n",
              "            '<a target=\"_blank\" href=https://colab.research.google.com/notebooks/data_table.ipynb>data table notebook</a>'\n",
              "            + ' to learn more about interactive tables.';\n",
              "          element.innerHTML = '';\n",
              "          dataTable['output_type'] = 'display_data';\n",
              "          await google.colab.output.renderOutput(dataTable, element);\n",
              "          const docLink = document.createElement('div');\n",
              "          docLink.innerHTML = docLinkHtml;\n",
              "          element.appendChild(docLink);\n",
              "        }\n",
              "      </script>\n",
              "    </div>\n",
              "  </div>\n",
              "  "
            ]
          },
          "metadata": {}
        },
        {
          "name": "stdout",
          "output_type": "stream",
          "text": [
            "----------------------------------------------------------------------------------------------------\n",
            "                                             \u001b[1mDescribe :\u001b[0m\n",
            "----------------------------------------------------------------------------------------------------\n",
            "Names of columns (separated by commas): label\n"
          ]
        },
        {
          "output_type": "display_data",
          "data": {
            "text/plain": [
              "         count      mean      std  min  25%  50%  75%  max\n",
              "label  42000.0  4.456643  2.88773  0.0  2.0  4.0  7.0  9.0"
            ],
            "text/html": [
              "\n",
              "  <div id=\"df-dcb55ac6-2eec-416f-af88-6c27f1e3dee0\">\n",
              "    <div class=\"colab-df-container\">\n",
              "      <div>\n",
              "<style scoped>\n",
              "    .dataframe tbody tr th:only-of-type {\n",
              "        vertical-align: middle;\n",
              "    }\n",
              "\n",
              "    .dataframe tbody tr th {\n",
              "        vertical-align: top;\n",
              "    }\n",
              "\n",
              "    .dataframe thead th {\n",
              "        text-align: right;\n",
              "    }\n",
              "</style>\n",
              "<table border=\"1\" class=\"dataframe\">\n",
              "  <thead>\n",
              "    <tr style=\"text-align: right;\">\n",
              "      <th></th>\n",
              "      <th>count</th>\n",
              "      <th>mean</th>\n",
              "      <th>std</th>\n",
              "      <th>min</th>\n",
              "      <th>25%</th>\n",
              "      <th>50%</th>\n",
              "      <th>75%</th>\n",
              "      <th>max</th>\n",
              "    </tr>\n",
              "  </thead>\n",
              "  <tbody>\n",
              "    <tr>\n",
              "      <th>label</th>\n",
              "      <td>42000.0</td>\n",
              "      <td>4.456643</td>\n",
              "      <td>2.88773</td>\n",
              "      <td>0.0</td>\n",
              "      <td>2.0</td>\n",
              "      <td>4.0</td>\n",
              "      <td>7.0</td>\n",
              "      <td>9.0</td>\n",
              "    </tr>\n",
              "  </tbody>\n",
              "</table>\n",
              "</div>\n",
              "      <button class=\"colab-df-convert\" onclick=\"convertToInteractive('df-dcb55ac6-2eec-416f-af88-6c27f1e3dee0')\"\n",
              "              title=\"Convert this dataframe to an interactive table.\"\n",
              "              style=\"display:none;\">\n",
              "        \n",
              "  <svg xmlns=\"http://www.w3.org/2000/svg\" height=\"24px\"viewBox=\"0 0 24 24\"\n",
              "       width=\"24px\">\n",
              "    <path d=\"M0 0h24v24H0V0z\" fill=\"none\"/>\n",
              "    <path d=\"M18.56 5.44l.94 2.06.94-2.06 2.06-.94-2.06-.94-.94-2.06-.94 2.06-2.06.94zm-11 1L8.5 8.5l.94-2.06 2.06-.94-2.06-.94L8.5 2.5l-.94 2.06-2.06.94zm10 10l.94 2.06.94-2.06 2.06-.94-2.06-.94-.94-2.06-.94 2.06-2.06.94z\"/><path d=\"M17.41 7.96l-1.37-1.37c-.4-.4-.92-.59-1.43-.59-.52 0-1.04.2-1.43.59L10.3 9.45l-7.72 7.72c-.78.78-.78 2.05 0 2.83L4 21.41c.39.39.9.59 1.41.59.51 0 1.02-.2 1.41-.59l7.78-7.78 2.81-2.81c.8-.78.8-2.07 0-2.86zM5.41 20L4 18.59l7.72-7.72 1.47 1.35L5.41 20z\"/>\n",
              "  </svg>\n",
              "      </button>\n",
              "      \n",
              "  <style>\n",
              "    .colab-df-container {\n",
              "      display:flex;\n",
              "      flex-wrap:wrap;\n",
              "      gap: 12px;\n",
              "    }\n",
              "\n",
              "    .colab-df-convert {\n",
              "      background-color: #E8F0FE;\n",
              "      border: none;\n",
              "      border-radius: 50%;\n",
              "      cursor: pointer;\n",
              "      display: none;\n",
              "      fill: #1967D2;\n",
              "      height: 32px;\n",
              "      padding: 0 0 0 0;\n",
              "      width: 32px;\n",
              "    }\n",
              "\n",
              "    .colab-df-convert:hover {\n",
              "      background-color: #E2EBFA;\n",
              "      box-shadow: 0px 1px 2px rgba(60, 64, 67, 0.3), 0px 1px 3px 1px rgba(60, 64, 67, 0.15);\n",
              "      fill: #174EA6;\n",
              "    }\n",
              "\n",
              "    [theme=dark] .colab-df-convert {\n",
              "      background-color: #3B4455;\n",
              "      fill: #D2E3FC;\n",
              "    }\n",
              "\n",
              "    [theme=dark] .colab-df-convert:hover {\n",
              "      background-color: #434B5C;\n",
              "      box-shadow: 0px 1px 3px 1px rgba(0, 0, 0, 0.15);\n",
              "      filter: drop-shadow(0px 1px 2px rgba(0, 0, 0, 0.3));\n",
              "      fill: #FFFFFF;\n",
              "    }\n",
              "  </style>\n",
              "\n",
              "      <script>\n",
              "        const buttonEl =\n",
              "          document.querySelector('#df-dcb55ac6-2eec-416f-af88-6c27f1e3dee0 button.colab-df-convert');\n",
              "        buttonEl.style.display =\n",
              "          google.colab.kernel.accessAllowed ? 'block' : 'none';\n",
              "\n",
              "        async function convertToInteractive(key) {\n",
              "          const element = document.querySelector('#df-dcb55ac6-2eec-416f-af88-6c27f1e3dee0');\n",
              "          const dataTable =\n",
              "            await google.colab.kernel.invokeFunction('convertToInteractive',\n",
              "                                                     [key], {});\n",
              "          if (!dataTable) return;\n",
              "\n",
              "          const docLinkHtml = 'Like what you see? Visit the ' +\n",
              "            '<a target=\"_blank\" href=https://colab.research.google.com/notebooks/data_table.ipynb>data table notebook</a>'\n",
              "            + ' to learn more about interactive tables.';\n",
              "          element.innerHTML = '';\n",
              "          dataTable['output_type'] = 'display_data';\n",
              "          await google.colab.output.renderOutput(dataTable, element);\n",
              "          const docLink = document.createElement('div');\n",
              "          docLink.innerHTML = docLinkHtml;\n",
              "          element.appendChild(docLink);\n",
              "        }\n",
              "      </script>\n",
              "    </div>\n",
              "  </div>\n",
              "  "
            ]
          },
          "metadata": {}
        },
        {
          "output_type": "stream",
          "name": "stdout",
          "text": [
            "----------------------------------------------------------------------------------------------------\n",
            "                                         \u001b[1mData Types :\u001b[0m\n",
            "----------------------------------------------------------------------------------------------------\n"
          ]
        },
        {
          "output_type": "display_data",
          "data": {
            "text/plain": [
              "label       int64\n",
              "pixel0      int64\n",
              "pixel1      int64\n",
              "pixel2      int64\n",
              "pixel3      int64\n",
              "            ...  \n",
              "pixel779    int64\n",
              "pixel780    int64\n",
              "pixel781    int64\n",
              "pixel782    int64\n",
              "pixel783    int64\n",
              "Length: 785, dtype: object"
            ]
          },
          "metadata": {}
        }
      ],
      "source": [
        "visu(train_ds)"
      ]
    },
    {
      "cell_type": "markdown",
      "metadata": {
        "id": "qnAIrZjrG9PJ"
      },
      "source": [
        "Now let's start with our class number to know which number we will find."
      ]
    },
    {
      "cell_type": "markdown",
      "metadata": {
        "id": "_MpjLeBfCWem"
      },
      "source": [
        "### Data Analysis :"
      ]
    },
    {
      "cell_type": "markdown",
      "metadata": {
        "id": "iX7rFWlzGwGL"
      },
      "source": [
        "Here we will try to see how much number we have :"
      ]
    },
    {
      "cell_type": "code",
      "execution_count": 8,
      "metadata": {
        "id": "RKAo9JFVHFlO"
      },
      "outputs": [],
      "source": [
        "num_classes = len(train_ds['label'].unique()) # Count the number of unique number normally we will have 10"
      ]
    },
    {
      "cell_type": "code",
      "execution_count": 9,
      "metadata": {
        "colab": {
          "base_uri": "https://localhost:8080/"
        },
        "id": "_ptKdpc1HOd5",
        "outputId": "cc888761-355f-4942-a720-f1735ea78897"
      },
      "outputs": [
        {
          "output_type": "execute_result",
          "data": {
            "text/plain": [
              "10"
            ]
          },
          "metadata": {},
          "execution_count": 9
        }
      ],
      "source": [
        "num_classes # Confirm we have 10 classes "
      ]
    },
    {
      "cell_type": "markdown",
      "metadata": {
        "id": "AFcUQA1M69XX"
      },
      "source": [
        "\n",
        "\n",
        "### Vizualisation of random number :"
      ]
    },
    {
      "cell_type": "markdown",
      "source": [],
      "metadata": {
        "id": "qEuQ4ycJv8jI"
      }
    },
    {
      "cell_type": "markdown",
      "metadata": {
        "id": "Swy-yWzqGRTh"
      },
      "source": [
        "Now we will have some random vizualisation of the score :"
      ]
    },
    {
      "cell_type": "code",
      "execution_count": 10,
      "metadata": {
        "colab": {
          "base_uri": "https://localhost:8080/",
          "height": 572
        },
        "id": "BkXdvoO_6j6A",
        "outputId": "775889a0-b7e3-4cea-8eb1-197504edc505"
      },
      "outputs": [
        {
          "output_type": "display_data",
          "data": {
            "text/plain": [
              "<Figure size 1000x600 with 15 Axes>"
            ],
            "image/png": "[encoded data removed]"
          },
          "metadata": {}
        }
      ],
      "source": [
        "import matplotlib.pyplot as plt\n",
        "import numpy as np\n",
        "\n",
        "# pixel = picture , labels = label :\n",
        "\n",
        "pixels = train_ds.drop('label', axis=1).values\n",
        "labels = train_ds['label'].values\n",
        "\n",
        "# Show the first 15 picture with label :\n",
        "\n",
        "fig, axes = plt.subplots(3, 5, figsize=(10, 6)) # 3 rows with 5 columns\n",
        "axes = axes.flatten()\n",
        "\n",
        "# loop for the first 15 images :\n",
        "for i in range(15):\n",
        "    img = pixels[i].reshape(28, 28)  # reshape in (28,28) pixel picture\n",
        "    axes[i].imshow(img, cmap='gray') # grey because greyscale \n",
        "    axes[i].set_title(f\"Label: {labels[i]}\")\n",
        "    axes[i].grid(True) # for a proper grid\n",
        "  \n",
        "plt.tight_layout()\n",
        "plt.show()"
      ]
    },
    {
      "cell_type": "markdown",
      "metadata": {
        "id": "btzLdOjd_L8-"
      },
      "source": [
        "## Data Preprocessing :"
      ]
    },
    {
      "cell_type": "markdown",
      "metadata": {
        "id": "KZzwet-e_OGJ"
      },
      "source": [
        "__Data Preprocessing :__\n",
        "\n",
        "  - Pixel normalization (scaling the pixels to a range of 0 to 1)\n",
        "  - Image resizing (if specific model input size is required)\n",
        "  - Data augmentation (to increase the model's capacity and improve generalization)\n"
      ]
    },
    {
      "cell_type": "code",
      "execution_count": 11,
      "metadata": {
        "id": "W11bpvfUDdlJ"
      },
      "outputs": [],
      "source": [
        "from sklearn.preprocessing import RobustScaler\n",
        "from skimage.transform import resize\n",
        "from tensorflow.keras.preprocessing.image import ImageDataGenerator"
      ]
    },
    {
      "cell_type": "markdown",
      "metadata": {
        "id": "eJKqlTx1E0b5"
      },
      "source": [
        "### Data normalization :"
      ]
    },
    {
      "cell_type": "markdown",
      "metadata": {
        "id": "ghHOsCo5FpRH"
      },
      "source": []
    },
    {
      "cell_type": "code",
      "execution_count": 12,
      "metadata": {
        "id": "0dd68v73E32F"
      },
      "outputs": [],
      "source": [
        "# scaler (you can pick minmaxscaler here too)\n",
        "scaler = RobustScaler()\n",
        "normalized_pixels = scaler.fit_transform(pixels)"
      ]
    },
    {
      "cell_type": "markdown",
      "metadata": {
        "id": "9mHONoZX-Nlp"
      },
      "source": [
        "### Creation of a folder with all our images :"
      ]
    },
    {
      "cell_type": "markdown",
      "metadata": {
        "id": "EXZ6cFfo20qh"
      },
      "source": [
        "We will convert our data into images for test our script later on."
      ]
    },
    {
      "cell_type": "code",
      "execution_count": null,
      "metadata": {
        "id": "3w_jAZ6-zHBC"
      },
      "outputs": [],
      "source": [
        "# Path to the folder for saved images :\n",
        "\n",
        "save_dir = \"/content/drive/My Drive/Colab Notebooks/digit-recognizer/images\"\n",
        "\n",
        "# Control if the saved images folder is here or not :\n",
        "\n",
        "if not os.path.exists(save_dir):\n",
        "    os.makedirs(save_dir)\n",
        "else:\n",
        "    print(\"The folder exist already. Images will not be recreated.\")\n",
        "\n",
        "# Conversion of data from CSV to .png with 28x28 pixels :\n",
        "\n",
        "existing_images = os.listdir(save_dir)\n",
        "\n",
        "if len(existing_images) == 0:\n",
        "    for i, (pixel, label) in enumerate(zip(pixels, labels)):\n",
        "\n",
        "        # Conversion from numpy array to image 28x28 :\n",
        "        img = np.array(pixel, dtype=np.uint8).reshape((28, 28))\n",
        "\n",
        "        # save the image with label :\n",
        "\n",
        "        save_path = os.path.join(save_dir, f\"image_{i}_label_{label}.png\")\n",
        "        io.imsave(save_path, img)\n",
        "\n",
        "    print(\"Images created & saved. \")"
      ]
    },
    {
      "cell_type": "code",
      "execution_count": null,
      "metadata": {
        "id": "pGSFf-zq9WfM"
      },
      "outputs": [],
      "source": [
        "# Path of the folder :\n",
        "\n",
        "image_paths = [os.path.join(save_dir, file) for file in os.listdir(save_dir)]\n",
        "\n",
        "# Load the images :\n",
        "\n",
        "images = [io.imread(image_path) for image_path in image_paths]\n",
        "\n",
        "images = np.array(images)  # Convert the list into numpy array \n",
        "\n",
        "# First 10 pictures with label :\n",
        "\n",
        "fig, axes = plt.subplots(2, 5, figsize=(10, 4))\n",
        "axes = axes.flatten()\n",
        "\n",
        "for i in range(10):\n",
        "    img = images[i]\n",
        "    label = labels[i]  # Label on every image\n",
        "    axes[i].imshow(img, cmap='gray')  # Greyscale\n",
        "    axes[i].set_title(f\"Label: {label}\")  \n",
        "    \n",
        "plt.tight_layout()\n",
        "plt.show()\n",
        "\n",
        "# 4 min for loading is a bit long i agree.. can be optimize.."
      ]
    },
    {
      "cell_type": "markdown",
      "metadata": {
        "id": "ChLsUNzm5si5"
      },
      "source": [
        "### Greyscale :"
      ]
    },
    {
      "cell_type": "markdown",
      "metadata": {
        "id": "ZwdBerLh5scW"
      },
      "source": [
        "My images have only one color, so grayscale here is not relevant."
      ]
    },
    {
      "cell_type": "markdown",
      "metadata": {
        "id": "E8xSHNy_57dW"
      },
      "source": [
        "### Split data :"
      ]
    },
    {
      "cell_type": "markdown",
      "metadata": {
        "id": "ZxSAgJG157is"
      },
      "source": [
        "For my analysis, I have decided to use only 20% of my data. \n",
        "\n",
        "This will allow me to have greater flexibility with my RAM.\n",
        "\n",
        "For the train test if i want i can put a random_state = 0, with that i can nullify the random."
      ]
    },
    {
      "cell_type": "code",
      "execution_count": null,
      "metadata": {
        "id": "Bjr_dHYv7A_n"
      },
      "outputs": [],
      "source": [
        "from sklearn.model_selection import train_test_split"
      ]
    },
    {
      "cell_type": "code",
      "execution_count": null,
      "metadata": {
        "id": "Yf2hl5pu57qF"
      },
      "outputs": [],
      "source": [
        "# train the data with 20% of the dataset :\n",
        "\n",
        "train_images, val_images, train_labels, val_labels = train_test_split(images, labels, test_size=0.2)"
      ]
    },
    {
      "cell_type": "markdown",
      "metadata": {
        "id": "CBy7IjvGE_vj"
      },
      "source": [
        "### Data Augmentation :"
      ]
    },
    {
      "cell_type": "markdown",
      "metadata": {
        "id": "CLpXhcrdFquE"
      },
      "source": [
        "From ImageDataGenerator i added some settings :\n",
        "\n",
        "  - __Rotation_range__: Here, the images can be rotated by a maximum of 10 degrees.\n",
        "\n",
        "  - __Width_shift_range__ & __Height_shift_range__ : Here, the images can be horizontally or vertically shifted by a maximum of 10% of their width or height, respectively.\n",
        "\n",
        "  - __Zoom_range__ : Here, the images can be zoomed in or out by a maximum of 10%.\n",
        "\n",
        "I chose 10% and 10 degrees to avoid significant alterations to my images that could affect my analysis."
      ]
    },
    {
      "cell_type": "code",
      "execution_count": null,
      "metadata": {
        "id": "r5mwP_dI6j7v"
      },
      "outputs": [],
      "source": [
        "# Data Augmentation :\n",
        "\n",
        "datagen = ImageDataGenerator(rotation_range=10, width_shift_range=0.1, height_shift_range=0.1, zoom_range=0.1)\n",
        "\n",
        "# Add a dimension for Greyscale :\n",
        "\n",
        "train_images = np.expand_dims(train_images, axis=-1)\n",
        "\n",
        "# put data augmentation with our own data :\n",
        "\n",
        "datagen.fit(train_images)\n",
        "\n",
        "# show the augmented data :\n",
        "\n",
        "augmented_images = datagen.flow(train_images, train_labels, batch_size=1, shuffle=False)"
      ]
    },
    {
      "cell_type": "markdown",
      "metadata": {
        "id": "L8evVCxIFD0u"
      },
      "source": [
        "### Visualisation of Data Preprocessing : "
      ]
    },
    {
      "cell_type": "markdown",
      "metadata": {
        "id": "LNsOCWp4Frvc"
      },
      "source": [
        "Data augmentation helps introduce variability in the data by applying random transformations to existing images.\n",
        "\n",
        "It improves the model's generalization ability by providing it with more diverse data for training."
      ]
    },
    {
      "cell_type": "code",
      "execution_count": null,
      "metadata": {
        "id": "E6IsGl366j-M"
      },
      "outputs": [],
      "source": [
        "print(\"Shape of Original data :\", images.shape)\n",
        "print(\"Shape of  augmented data :\", augmented_images[0][0].shape)"
      ]
    },
    {
      "cell_type": "code",
      "execution_count": null,
      "metadata": {
        "id": "zWhcB8JZFdEM"
      },
      "outputs": [],
      "source": [
        "# Only first 15 labels :\n",
        "\n",
        "generated_labels = train_labels[:15]\n",
        "\n",
        "# show the data augmentation picture with label :\n",
        "\n",
        "fig, axes = plt.subplots(3, 5, figsize=(12, 8))\n",
        "axes = axes.flatten()\n",
        "\n",
        "for i in range(15):\n",
        "\n",
        "    img = augmented_images[i][0].reshape(28, 28)  #  28x28 (norme)\n",
        "    label = generated_labels[i]  # For the label\n",
        "    axes[i].imshow(img, cmap='gray')  # Greyscale\n",
        "    axes[i].set_title(f\"Label: {label}\")\n",
        "    axes[i].axis('off')\n",
        "\n",
        "plt.tight_layout()\n",
        "plt.show()"
      ]
    },
    {
      "cell_type": "markdown",
      "metadata": {
        "id": "OzyrC9P3FNY1"
      },
      "source": [
        "## Create the model from scratch :"
      ]
    },
    {
      "cell_type": "markdown",
      "metadata": {
        "id": "xzz0r4PyIfag"
      },
      "source": [
        "A \"from scratch\" model allows us to design a neural network with our own defined characteristics.\n",
        "\n",
        "Thanks to this, we have complete control over the architecture of our model, the hyperparameters, and the optimization techniques we can use.\n",
        "\n",
        "Despite all the advantages, if we train a model from scratch, it will require more time and computational resources, especially if we have a large number of images and the model is complex, which can lead to memory crashes or excessively long computation times."
      ]
    },
    {
      "cell_type": "markdown",
      "source": [
        "### Import all library for Neural Network :"
      ],
      "metadata": {
        "id": "Qx_l3MMfxZMd"
      }
    },
    {
      "cell_type": "code",
      "execution_count": null,
      "metadata": {
        "id": "FmEjWa41Ig_2"
      },
      "outputs": [],
      "source": [
        "from sklearn.preprocessing import RobustScaler\n",
        "from sklearn.model_selection import train_test_split\n",
        "\n",
        "from skimage.transform import resize\n",
        "\n",
        "import tensorflow as tf\n",
        "from tensorflow import keras\n",
        "from tensorflow.keras.preprocessing.image import ImageDataGenerator\n",
        "from tensorflow.keras.layers import Conv2D, MaxPooling2D, Flatten, Dense\n",
        "from tensorflow.keras.models import Sequential\n",
        "from tensorflow.keras.callbacks import EarlyStopping, ModelCheckpoint, CSVLogger"
      ]
    },
    {
      "cell_type": "markdown",
      "metadata": {
        "id": "w5xLKOc6EbWH"
      },
      "source": [
        "You have choice between Tensorflow and Pytorch but i prefer Tensorflow, because i learned with it."
      ]
    },
    {
      "cell_type": "markdown",
      "metadata": {
        "id": "jRnpKyOBEbiD"
      },
      "source": [
        "### Creation of the Neural Network model :"
      ]
    },
    {
      "cell_type": "markdown",
      "source": [
        "- __EarlyStopping__ : I used this method with a patience of 3, which means that if the validation loss does not improve for 3 epochs, it allows me to save training time and memory, especially when using Colab.\n",
        "\n",
        "- __ModelCheckpoint__ : This method allows me to save the best model and prevent loss of improvements during training.\n",
        "\n",
        "- __CSVLogger__ : This method enables logging training and validation metrics to a CSV file. It allows me to visualize the metrics over epochs if desired.\n",
        "\n",
        "- __Epochs__ : It refers to the number of times the model iterates over the data. The number of epochs determines how many times the model adjusts its parameters and improves its performance."
      ],
      "metadata": {
        "id": "7eEBEicC6jpW"
      }
    },
    {
      "cell_type": "code",
      "execution_count": null,
      "metadata": {
        "id": "8PjWAPPRQyIy"
      },
      "outputs": [],
      "source": [
        "import os\n",
        "import keras\n",
        "from keras.models import Sequential\n",
        "from keras.layers import Conv2D, MaxPooling2D, Flatten, Dense\n",
        "from keras.callbacks import EarlyStopping, ModelCheckpoint, CSVLogger\n",
        "\n",
        "model_path = \"/content/drive/My Drive/Colab Notebooks/digit-recognizer/model_scratch\"\n",
        "\n",
        "# Check if the folder exists, create it if necessary\n",
        "model_folder = os.path.dirname(model_path)\n",
        "if not os.path.exists(model_folder):\n",
        "    os.makedirs(model_folder)\n",
        "\n",
        "if os.path.exists(model_path):\n",
        "    # Load the existing model:\n",
        "    model = keras.models.load_model(model_path)\n",
        "    print(\"The model has already been loaded.\")\n",
        "else:\n",
        "    # Create the model:\n",
        "    model = Sequential()\n",
        "    model.add(Conv2D(32, (3, 3), activation='relu', input_shape=(28, 28, 1)))\n",
        "    model.add(MaxPooling2D((2, 2)))\n",
        "    model.add(Conv2D(64, (3, 3), activation='relu'))\n",
        "    model.add(MaxPooling2D((2, 2)))\n",
        "    model.add(Conv2D(128, (3, 3), activation='relu'))\n",
        "    model.add(MaxPooling2D((2, 2)))\n",
        "    model.add(Flatten())\n",
        "    model.add(Dense(128, activation='relu'))\n",
        "    model.add(Dense(10, activation='softmax'))\n",
        "\n",
        "    # Compile the model:\n",
        "    model.compile(optimizer='adam', loss='sparse_categorical_crossentropy', metrics=['accuracy'])\n",
        "\n",
        "    # Define the callbacks:\n",
        "    early_stopping = EarlyStopping(monitor='val_loss', patience=3, restore_best_weights=True)\n",
        "    checkpointer = ModelCheckpoint(model_path, monitor='val_accuracy', save_best_only=True, mode='max')\n",
        "    csv_logger = CSVLogger('/content/drive/My Drive/Colab Notebooks/digit-recognizer/model_scratch.log')\n",
        "\n",
        "    # Train the model:\n",
        "    history = model.fit(datagen.flow(train_images, train_labels, batch_size=32), \n",
        "                        epochs=100, \n",
        "                        validation_data=(val_images, val_labels),\n",
        "                        callbacks=[early_stopping, checkpointer, csv_logger])\n",
        "\n",
        "    # Save the model:\n",
        "    model.save(model_path)\n",
        "    print(\"The model has been successfully saved.\")\n"
      ]
    },
    {
      "cell_type": "markdown",
      "metadata": {
        "id": "6QSF5vQ7hsiX"
      },
      "source": [
        "If we want to optimize, we could add additional __layers of convolution__ and test them gradually.\n",
        "\n",
        "We could also try changing the utilization __metrics__ for the model.\n",
        "\n",
        "Lastly, we could use __dropouts__ to make the model more robust by randomly eliminating data to enhance its resilience."
      ]
    },
    {
      "cell_type": "markdown",
      "metadata": {
        "id": "52op8ABHhtIB"
      },
      "source": [
        "### Vizualisation of the score :"
      ]
    },
    {
      "cell_type": "markdown",
      "source": [
        "#### For Accuracy - Validation Accuracy :"
      ],
      "metadata": {
        "id": "BLJIVzN0xmEQ"
      }
    },
    {
      "cell_type": "code",
      "execution_count": null,
      "metadata": {
        "id": "e2bGUxtshsp2"
      },
      "outputs": [],
      "source": [
        "accuracy_plot_path = \"/content/drive/My Drive/Colab Notebooks/digit-recognizer/scratch_accuracy.png\"\n",
        "\n",
        "if not os.path.exists(accuracy_plot_path):\n",
        "    plt.figure(figsize=(12, 10))\n",
        "    plt.title('Model Accuracy')\n",
        "    plt.plot(history.history['accuracy'])\n",
        "    plt.plot(history.history['val_accuracy'])\n",
        "    plt.ylabel('Accuracy')\n",
        "    plt.xlabel('Epochs')\n",
        "    plt.legend(['Training Accuracy', 'Validation Accuracy'])\n",
        "    plt.savefig(accuracy_plot_path, transparent=False, bbox_inches='tight', dpi=900)\n",
        "    plt.grid(True)\n",
        "    plt.show()\n",
        "else:\n",
        "    plt.imshow(plt.imread(accuracy_plot_path))\n",
        "    plt.show()"
      ]
    },
    {
      "cell_type": "markdown",
      "metadata": {
        "id": "HhsieRTtlfqu"
      },
      "source": [
        "- This graph shows that the model is training well and is capable of __recognizing the digits with increasing accuracy__.\n",
        "\n",
        "- We can also see that the __loss decreases over time__, indicating that the __model is adjusting__ its __parameters__ to better align with the true labels of the images.\n",
        "\n",
        "- The training and validation accuracy curves are similar, suggesting that we are __not experiencing overfitting__.\n",
        "\n",
        "- Finally, the __early stopping__ has effectively __optimized__ the model before overfitting occurs.\n",
        "\n",
        "- Overall, these observations indicate that the __model is performing__ well and is able to generalize to new data."
      ]
    },
    {
      "cell_type": "markdown",
      "metadata": {
        "id": "r8AbGFCkEdKX"
      },
      "source": [
        "#### for Loss - Validation Loss :"
      ]
    },
    {
      "cell_type": "code",
      "execution_count": null,
      "metadata": {
        "id": "3npkHiKAlf9d"
      },
      "outputs": [],
      "source": [
        "loss_plot_path = \"/content/drive/My Drive/Colab Notebooks/digit-recognizer/scratch_loss.png\"\n",
        "\n",
        "\n",
        "if not os.path.exists(loss_plot_path):\n",
        "    plt.figure(figsize=(12, 10))\n",
        "    plt.title('Model Loss')\n",
        "    plt.plot(history.history['loss'])\n",
        "    plt.plot(history.history['val_loss'])\n",
        "    plt.ylabel('Loss')\n",
        "    plt.xlabel('Epochs')\n",
        "    plt.legend(['Training Loss', 'Validation Loss'])\n",
        "    plt.savefig(loss_plot_path, transparent=False, bbox_inches='tight', dpi=900)\n",
        "    plt.grid(True)\n",
        "    plt.show()\n",
        "\n",
        "else:\n",
        "  \n",
        "    plt.imshow(plt.imread(loss_plot_path))"
      ]
    },
    {
      "cell_type": "markdown",
      "metadata": {
        "id": "hquKz6SZlgK8"
      },
      "source": [
        "- __Loss___ : We observe an __effective reduction__ in errors on our Loss curve.\n",
        "\n",
        "- __Validation Loss__ : We see a stabilization or slight increase, suggesting that we are __reaching the limit of our model__.\n",
        "\n",
        "- __Precision/Loss Gap__ : The gap between the two is widening, indicating that we are __starting to approach overfitting__.\n",
        "\n",
        "- In conclusion, our model is starting to lean towards __overfitting__ or __becoming too specialized__ to our data. The solution would be to either modify our model to improve its performance or increase data augmentation to __introduce more diverse data__ that differs from our current dataset."
      ]
    },
    {
      "cell_type": "markdown",
      "metadata": {
        "id": "uaZFKsf9E4B5"
      },
      "source": [
        "## Prédiction du modéle :"
      ]
    },
    {
      "cell_type": "markdown",
      "metadata": {
        "id": "yEQq6Xj9OAfX"
      },
      "source": []
    },
    {
      "cell_type": "code",
      "execution_count": null,
      "metadata": {
        "id": "IpyIn7V2KxCD"
      },
      "outputs": [],
      "source": [
        "import os\n",
        "import random\n",
        "import matplotlib.pyplot as plt\n",
        "import numpy as np\n",
        "from PIL import Image\n",
        "\n",
        "# Path to the image folder:\n",
        "image_folder = '/content/drive/My Drive/Colab Notebooks/digit-recognizer/images'\n",
        "\n",
        "# List of images inside the folder:\n",
        "image_files = os.listdir(image_folder)\n",
        "\n",
        "# Pick a random image:\n",
        "random_image_file = random.choice(image_files)\n",
        "image_path = os.path.join(image_folder, random_image_file)\n",
        "\n",
        "# Extract the label from the image file name:\n",
        "label = int(random_image_file.split(\"_\")[1].split(\".\")[0])\n",
        "\n",
        "# Load the image:\n",
        "image = Image.open(image_path)\n",
        "image_array = np.array(image)  # Convert image to numpy array\n",
        "\n",
        "# Show the image:\n",
        "plt.imshow(image_array, cmap='gray')\n",
        "plt.axis('off')\n",
        "\n",
        "# Preprocess the image:\n",
        "preprocessed_image = image.resize((28, 28))  # Resize image\n",
        "preprocessed_image = np.array(preprocessed_image)  # Convert to numpy array\n",
        "preprocessed_image = preprocessed_image / 255.0  # Normalize pixel values to (0, 1)\n",
        "preprocessed_image = np.expand_dims(preprocessed_image, axis=0)  # Add a dimension\n",
        "\n",
        "# Load the model:\n",
        "model_path = \"/content/drive/My Drive/Colab Notebooks/digit-recognizer/model_scratch\"\n",
        "model = keras.models.load_model(model_path)\n",
        "\n",
        "# Make prediction:\n",
        "prediction = model.predict(preprocessed_image)\n",
        "predicted_class = np.argmax(prediction)\n",
        "prediction_percentage = np.max(prediction) * 100\n",
        "\n",
        "# Show the prediction:\n",
        "label_text = f\"Label: {label}\"\n",
        "prediction_text = f\"Prediction: {predicted_class} ({prediction_percentage:.2f}%)\"\n",
        "plt.text(10, 10, label_text, bbox=dict(facecolor='white', alpha=0.8))\n",
        "plt.text(10, 30, prediction_text, bbox=dict(facecolor='white', alpha=0.8))\n",
        "\n",
        "plt.show()\n"
      ]
    }
  ],
  "metadata": {
    "accelerator": "GPU",
    "colab": {
      "toc_visible": true,
      "provenance": [],
      "authorship_tag": "ABX9TyMRxgz0R/p2dVMNsGmx5D4O",
      "include_colab_link": true
    },
    "gpuClass": "standard",
    "kernelspec": {
      "display_name": "Python 3",
      "name": "python3"
    },
    "language_info": {
      "name": "python"
    }
  },
  "nbformat": 4,
  "nbformat_minor": 0
}